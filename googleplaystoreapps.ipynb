{
 "cells": [
  {
   "cell_type": "code",
   "execution_count": 1,
   "id": "294199e3",
   "metadata": {
    "_cell_guid": "b1076dfc-b9ad-4769-8c92-a6c4dae69d19",
    "_uuid": "8f2839f25d086af736a60e9eeb907d3b93b6e0e5",
    "execution": {
     "iopub.execute_input": "2025-07-18T17:47:24.311325Z",
     "iopub.status.busy": "2025-07-18T17:47:24.310988Z",
     "iopub.status.idle": "2025-07-18T17:47:27.874778Z",
     "shell.execute_reply": "2025-07-18T17:47:27.873995Z"
    },
    "papermill": {
     "duration": 3.57581,
     "end_time": "2025-07-18T17:47:27.876389",
     "exception": false,
     "start_time": "2025-07-18T17:47:24.300579",
     "status": "completed"
    },
    "tags": []
   },
   "outputs": [],
   "source": [
    "import pandas as pd\n",
    "import numpy as np\n",
    "import matplotlib.pyplot as plt\n",
    "import seaborn as sns\n",
    "%matplotlib inline"
   ]
  },
  {
   "cell_type": "code",
   "execution_count": 2,
   "id": "d4d8a319",
   "metadata": {
    "execution": {
     "iopub.execute_input": "2025-07-18T17:47:27.895357Z",
     "iopub.status.busy": "2025-07-18T17:47:27.894884Z",
     "iopub.status.idle": "2025-07-18T17:47:28.004021Z",
     "shell.execute_reply": "2025-07-18T17:47:28.003020Z"
    },
    "papermill": {
     "duration": 0.12032,
     "end_time": "2025-07-18T17:47:28.005659",
     "exception": false,
     "start_time": "2025-07-18T17:47:27.885339",
     "status": "completed"
    },
    "tags": []
   },
   "outputs": [
    {
     "data": {
      "text/html": [
       "<div>\n",
       "<style scoped>\n",
       "    .dataframe tbody tr th:only-of-type {\n",
       "        vertical-align: middle;\n",
       "    }\n",
       "\n",
       "    .dataframe tbody tr th {\n",
       "        vertical-align: top;\n",
       "    }\n",
       "\n",
       "    .dataframe thead th {\n",
       "        text-align: right;\n",
       "    }\n",
       "</style>\n",
       "<table border=\"1\" class=\"dataframe\">\n",
       "  <thead>\n",
       "    <tr style=\"text-align: right;\">\n",
       "      <th></th>\n",
       "      <th>App</th>\n",
       "      <th>Category</th>\n",
       "      <th>Rating</th>\n",
       "      <th>Reviews</th>\n",
       "      <th>Size</th>\n",
       "      <th>Installs</th>\n",
       "      <th>Type</th>\n",
       "      <th>Price</th>\n",
       "      <th>Content Rating</th>\n",
       "      <th>Genres</th>\n",
       "      <th>Last Updated</th>\n",
       "      <th>Current Ver</th>\n",
       "      <th>Android Ver</th>\n",
       "    </tr>\n",
       "  </thead>\n",
       "  <tbody>\n",
       "    <tr>\n",
       "      <th>0</th>\n",
       "      <td>Photo Editor &amp; Candy Camera &amp; Grid &amp; ScrapBook</td>\n",
       "      <td>ART_AND_DESIGN</td>\n",
       "      <td>4.1</td>\n",
       "      <td>159</td>\n",
       "      <td>19M</td>\n",
       "      <td>10,000+</td>\n",
       "      <td>Free</td>\n",
       "      <td>0</td>\n",
       "      <td>Everyone</td>\n",
       "      <td>Art &amp; Design</td>\n",
       "      <td>January 7, 2018</td>\n",
       "      <td>1.0.0</td>\n",
       "      <td>4.0.3 and up</td>\n",
       "    </tr>\n",
       "    <tr>\n",
       "      <th>1</th>\n",
       "      <td>Coloring book moana</td>\n",
       "      <td>ART_AND_DESIGN</td>\n",
       "      <td>3.9</td>\n",
       "      <td>967</td>\n",
       "      <td>14M</td>\n",
       "      <td>500,000+</td>\n",
       "      <td>Free</td>\n",
       "      <td>0</td>\n",
       "      <td>Everyone</td>\n",
       "      <td>Art &amp; Design;Pretend Play</td>\n",
       "      <td>January 15, 2018</td>\n",
       "      <td>2.0.0</td>\n",
       "      <td>4.0.3 and up</td>\n",
       "    </tr>\n",
       "    <tr>\n",
       "      <th>2</th>\n",
       "      <td>U Launcher Lite – FREE Live Cool Themes, Hide ...</td>\n",
       "      <td>ART_AND_DESIGN</td>\n",
       "      <td>4.7</td>\n",
       "      <td>87510</td>\n",
       "      <td>8.7M</td>\n",
       "      <td>5,000,000+</td>\n",
       "      <td>Free</td>\n",
       "      <td>0</td>\n",
       "      <td>Everyone</td>\n",
       "      <td>Art &amp; Design</td>\n",
       "      <td>August 1, 2018</td>\n",
       "      <td>1.2.4</td>\n",
       "      <td>4.0.3 and up</td>\n",
       "    </tr>\n",
       "    <tr>\n",
       "      <th>3</th>\n",
       "      <td>Sketch - Draw &amp; Paint</td>\n",
       "      <td>ART_AND_DESIGN</td>\n",
       "      <td>4.5</td>\n",
       "      <td>215644</td>\n",
       "      <td>25M</td>\n",
       "      <td>50,000,000+</td>\n",
       "      <td>Free</td>\n",
       "      <td>0</td>\n",
       "      <td>Teen</td>\n",
       "      <td>Art &amp; Design</td>\n",
       "      <td>June 8, 2018</td>\n",
       "      <td>Varies with device</td>\n",
       "      <td>4.2 and up</td>\n",
       "    </tr>\n",
       "    <tr>\n",
       "      <th>4</th>\n",
       "      <td>Pixel Draw - Number Art Coloring Book</td>\n",
       "      <td>ART_AND_DESIGN</td>\n",
       "      <td>4.3</td>\n",
       "      <td>967</td>\n",
       "      <td>2.8M</td>\n",
       "      <td>100,000+</td>\n",
       "      <td>Free</td>\n",
       "      <td>0</td>\n",
       "      <td>Everyone</td>\n",
       "      <td>Art &amp; Design;Creativity</td>\n",
       "      <td>June 20, 2018</td>\n",
       "      <td>1.1</td>\n",
       "      <td>4.4 and up</td>\n",
       "    </tr>\n",
       "  </tbody>\n",
       "</table>\n",
       "</div>"
      ],
      "text/plain": [
       "                                                 App        Category  Rating  \\\n",
       "0     Photo Editor & Candy Camera & Grid & ScrapBook  ART_AND_DESIGN     4.1   \n",
       "1                                Coloring book moana  ART_AND_DESIGN     3.9   \n",
       "2  U Launcher Lite – FREE Live Cool Themes, Hide ...  ART_AND_DESIGN     4.7   \n",
       "3                              Sketch - Draw & Paint  ART_AND_DESIGN     4.5   \n",
       "4              Pixel Draw - Number Art Coloring Book  ART_AND_DESIGN     4.3   \n",
       "\n",
       "  Reviews  Size     Installs  Type Price Content Rating  \\\n",
       "0     159   19M      10,000+  Free     0       Everyone   \n",
       "1     967   14M     500,000+  Free     0       Everyone   \n",
       "2   87510  8.7M   5,000,000+  Free     0       Everyone   \n",
       "3  215644   25M  50,000,000+  Free     0           Teen   \n",
       "4     967  2.8M     100,000+  Free     0       Everyone   \n",
       "\n",
       "                      Genres      Last Updated         Current Ver  \\\n",
       "0               Art & Design   January 7, 2018               1.0.0   \n",
       "1  Art & Design;Pretend Play  January 15, 2018               2.0.0   \n",
       "2               Art & Design    August 1, 2018               1.2.4   \n",
       "3               Art & Design      June 8, 2018  Varies with device   \n",
       "4    Art & Design;Creativity     June 20, 2018                 1.1   \n",
       "\n",
       "    Android Ver  \n",
       "0  4.0.3 and up  \n",
       "1  4.0.3 and up  \n",
       "2  4.0.3 and up  \n",
       "3    4.2 and up  \n",
       "4    4.4 and up  "
      ]
     },
     "execution_count": 2,
     "metadata": {},
     "output_type": "execute_result"
    }
   ],
   "source": [
    "df = pd.read_csv('/kaggle/input/google-play-store-apps/googleplaystore.csv')\n",
    "df.head()"
   ]
  },
  {
   "cell_type": "code",
   "execution_count": 3,
   "id": "c62845b3",
   "metadata": {
    "execution": {
     "iopub.execute_input": "2025-07-18T17:47:28.026770Z",
     "iopub.status.busy": "2025-07-18T17:47:28.026455Z",
     "iopub.status.idle": "2025-07-18T17:47:28.064293Z",
     "shell.execute_reply": "2025-07-18T17:47:28.063247Z"
    },
    "papermill": {
     "duration": 0.051854,
     "end_time": "2025-07-18T17:47:28.066713",
     "exception": false,
     "start_time": "2025-07-18T17:47:28.014859",
     "status": "completed"
    },
    "tags": []
   },
   "outputs": [
    {
     "name": "stdout",
     "output_type": "stream",
     "text": [
      "<class 'pandas.core.frame.DataFrame'>\n",
      "RangeIndex: 10841 entries, 0 to 10840\n",
      "Data columns (total 13 columns):\n",
      " #   Column          Non-Null Count  Dtype  \n",
      "---  ------          --------------  -----  \n",
      " 0   App             10841 non-null  object \n",
      " 1   Category        10841 non-null  object \n",
      " 2   Rating          9367 non-null   float64\n",
      " 3   Reviews         10841 non-null  object \n",
      " 4   Size            10841 non-null  object \n",
      " 5   Installs        10841 non-null  object \n",
      " 6   Type            10840 non-null  object \n",
      " 7   Price           10841 non-null  object \n",
      " 8   Content Rating  10840 non-null  object \n",
      " 9   Genres          10841 non-null  object \n",
      " 10  Last Updated    10841 non-null  object \n",
      " 11  Current Ver     10833 non-null  object \n",
      " 12  Android Ver     10838 non-null  object \n",
      "dtypes: float64(1), object(12)\n",
      "memory usage: 1.1+ MB\n"
     ]
    }
   ],
   "source": [
    "df.info()"
   ]
  },
  {
   "cell_type": "code",
   "execution_count": 4,
   "id": "0225f28c",
   "metadata": {
    "execution": {
     "iopub.execute_input": "2025-07-18T17:47:28.088664Z",
     "iopub.status.busy": "2025-07-18T17:47:28.088260Z",
     "iopub.status.idle": "2025-07-18T17:47:28.094845Z",
     "shell.execute_reply": "2025-07-18T17:47:28.093918Z"
    },
    "papermill": {
     "duration": 0.019809,
     "end_time": "2025-07-18T17:47:28.096381",
     "exception": false,
     "start_time": "2025-07-18T17:47:28.076572",
     "status": "completed"
    },
    "tags": []
   },
   "outputs": [
    {
     "data": {
      "text/plain": [
       "Index(['App', 'Category', 'Rating', 'Reviews', 'Size', 'Installs', 'Type',\n",
       "       'Price', 'Content Rating', 'Genres', 'Last Updated', 'Current Ver',\n",
       "       'Android Ver'],\n",
       "      dtype='object')"
      ]
     },
     "execution_count": 4,
     "metadata": {},
     "output_type": "execute_result"
    }
   ],
   "source": [
    "df.columns"
   ]
  },
  {
   "cell_type": "code",
   "execution_count": 5,
   "id": "53e3eadd",
   "metadata": {
    "execution": {
     "iopub.execute_input": "2025-07-18T17:47:28.115825Z",
     "iopub.status.busy": "2025-07-18T17:47:28.115133Z",
     "iopub.status.idle": "2025-07-18T17:47:28.121036Z",
     "shell.execute_reply": "2025-07-18T17:47:28.120006Z"
    },
    "papermill": {
     "duration": 0.017068,
     "end_time": "2025-07-18T17:47:28.122438",
     "exception": false,
     "start_time": "2025-07-18T17:47:28.105370",
     "status": "completed"
    },
    "tags": []
   },
   "outputs": [
    {
     "data": {
      "text/plain": [
       "(10841, 13)"
      ]
     },
     "execution_count": 5,
     "metadata": {},
     "output_type": "execute_result"
    }
   ],
   "source": [
    "df.shape"
   ]
  },
  {
   "cell_type": "code",
   "execution_count": 6,
   "id": "8485b714",
   "metadata": {
    "execution": {
     "iopub.execute_input": "2025-07-18T17:47:28.142359Z",
     "iopub.status.busy": "2025-07-18T17:47:28.141934Z",
     "iopub.status.idle": "2025-07-18T17:47:28.165083Z",
     "shell.execute_reply": "2025-07-18T17:47:28.163899Z"
    },
    "papermill": {
     "duration": 0.036002,
     "end_time": "2025-07-18T17:47:28.167467",
     "exception": false,
     "start_time": "2025-07-18T17:47:28.131465",
     "status": "completed"
    },
    "tags": []
   },
   "outputs": [
    {
     "data": {
      "text/html": [
       "<div>\n",
       "<style scoped>\n",
       "    .dataframe tbody tr th:only-of-type {\n",
       "        vertical-align: middle;\n",
       "    }\n",
       "\n",
       "    .dataframe tbody tr th {\n",
       "        vertical-align: top;\n",
       "    }\n",
       "\n",
       "    .dataframe thead th {\n",
       "        text-align: right;\n",
       "    }\n",
       "</style>\n",
       "<table border=\"1\" class=\"dataframe\">\n",
       "  <thead>\n",
       "    <tr style=\"text-align: right;\">\n",
       "      <th></th>\n",
       "      <th>Rating</th>\n",
       "    </tr>\n",
       "  </thead>\n",
       "  <tbody>\n",
       "    <tr>\n",
       "      <th>count</th>\n",
       "      <td>9367.000000</td>\n",
       "    </tr>\n",
       "    <tr>\n",
       "      <th>mean</th>\n",
       "      <td>4.193338</td>\n",
       "    </tr>\n",
       "    <tr>\n",
       "      <th>std</th>\n",
       "      <td>0.537431</td>\n",
       "    </tr>\n",
       "    <tr>\n",
       "      <th>min</th>\n",
       "      <td>1.000000</td>\n",
       "    </tr>\n",
       "    <tr>\n",
       "      <th>25%</th>\n",
       "      <td>4.000000</td>\n",
       "    </tr>\n",
       "    <tr>\n",
       "      <th>50%</th>\n",
       "      <td>4.300000</td>\n",
       "    </tr>\n",
       "    <tr>\n",
       "      <th>75%</th>\n",
       "      <td>4.500000</td>\n",
       "    </tr>\n",
       "    <tr>\n",
       "      <th>max</th>\n",
       "      <td>19.000000</td>\n",
       "    </tr>\n",
       "  </tbody>\n",
       "</table>\n",
       "</div>"
      ],
      "text/plain": [
       "            Rating\n",
       "count  9367.000000\n",
       "mean      4.193338\n",
       "std       0.537431\n",
       "min       1.000000\n",
       "25%       4.000000\n",
       "50%       4.300000\n",
       "75%       4.500000\n",
       "max      19.000000"
      ]
     },
     "execution_count": 6,
     "metadata": {},
     "output_type": "execute_result"
    }
   ],
   "source": [
    "df.describe()"
   ]
  },
  {
   "cell_type": "code",
   "execution_count": 7,
   "id": "1c49e0c2",
   "metadata": {
    "execution": {
     "iopub.execute_input": "2025-07-18T17:47:28.200466Z",
     "iopub.status.busy": "2025-07-18T17:47:28.199925Z",
     "iopub.status.idle": "2025-07-18T17:47:28.220046Z",
     "shell.execute_reply": "2025-07-18T17:47:28.219258Z"
    },
    "papermill": {
     "duration": 0.038703,
     "end_time": "2025-07-18T17:47:28.221723",
     "exception": false,
     "start_time": "2025-07-18T17:47:28.183020",
     "status": "completed"
    },
    "tags": []
   },
   "outputs": [
    {
     "data": {
      "text/plain": [
       "App                  0\n",
       "Category             0\n",
       "Rating            1474\n",
       "Reviews              0\n",
       "Size                 0\n",
       "Installs             0\n",
       "Type                 1\n",
       "Price                0\n",
       "Content Rating       1\n",
       "Genres               0\n",
       "Last Updated         0\n",
       "Current Ver          8\n",
       "Android Ver          3\n",
       "dtype: int64"
      ]
     },
     "execution_count": 7,
     "metadata": {},
     "output_type": "execute_result"
    }
   ],
   "source": [
    "#missing data\n",
    "df.isnull().sum()"
   ]
  },
  {
   "cell_type": "code",
   "execution_count": 8,
   "id": "0215434c",
   "metadata": {
    "execution": {
     "iopub.execute_input": "2025-07-18T17:47:28.249283Z",
     "iopub.status.busy": "2025-07-18T17:47:28.248542Z",
     "iopub.status.idle": "2025-07-18T17:47:28.259003Z",
     "shell.execute_reply": "2025-07-18T17:47:28.258236Z"
    },
    "papermill": {
     "duration": 0.02412,
     "end_time": "2025-07-18T17:47:28.260286",
     "exception": false,
     "start_time": "2025-07-18T17:47:28.236166",
     "status": "completed"
    },
    "tags": []
   },
   "outputs": [
    {
     "data": {
      "text/plain": [
       "Reviews\n",
       "0         596\n",
       "1         272\n",
       "2         214\n",
       "3         175\n",
       "4         137\n",
       "         ... \n",
       "342912      1\n",
       "4272        1\n",
       "5517        1\n",
       "4057        1\n",
       "398307      1\n",
       "Name: count, Length: 6002, dtype: int64"
      ]
     },
     "execution_count": 8,
     "metadata": {},
     "output_type": "execute_result"
    }
   ],
   "source": [
    "df['Reviews'].value_counts()"
   ]
  },
  {
   "cell_type": "code",
   "execution_count": 9,
   "id": "a9ecfc90",
   "metadata": {
    "execution": {
     "iopub.execute_input": "2025-07-18T17:47:28.279707Z",
     "iopub.status.busy": "2025-07-18T17:47:28.279366Z",
     "iopub.status.idle": "2025-07-18T17:47:28.285685Z",
     "shell.execute_reply": "2025-07-18T17:47:28.284917Z"
    },
    "papermill": {
     "duration": 0.017616,
     "end_time": "2025-07-18T17:47:28.286996",
     "exception": false,
     "start_time": "2025-07-18T17:47:28.269380",
     "status": "completed"
    },
    "tags": []
   },
   "outputs": [
    {
     "data": {
      "text/plain": [
       "array(['159', '967', '87510', ..., '603', '1195', '398307'], dtype=object)"
      ]
     },
     "execution_count": 9,
     "metadata": {},
     "output_type": "execute_result"
    }
   ],
   "source": [
    "df['Reviews'].unique()"
   ]
  },
  {
   "cell_type": "code",
   "execution_count": 10,
   "id": "c506debc",
   "metadata": {
    "execution": {
     "iopub.execute_input": "2025-07-18T17:47:28.306618Z",
     "iopub.status.busy": "2025-07-18T17:47:28.306280Z",
     "iopub.status.idle": "2025-07-18T17:47:28.314699Z",
     "shell.execute_reply": "2025-07-18T17:47:28.313846Z"
    },
    "papermill": {
     "duration": 0.019753,
     "end_time": "2025-07-18T17:47:28.316035",
     "exception": false,
     "start_time": "2025-07-18T17:47:28.296282",
     "status": "completed"
    },
    "tags": []
   },
   "outputs": [
    {
     "data": {
      "text/plain": [
       "10840"
      ]
     },
     "execution_count": 10,
     "metadata": {},
     "output_type": "execute_result"
    }
   ],
   "source": [
    "#df['Reviews'] = df['Reviews'].astype(int)\n",
    "df['Reviews'].str.isnumeric().sum()"
   ]
  },
  {
   "cell_type": "code",
   "execution_count": 11,
   "id": "ebe934ab",
   "metadata": {
    "execution": {
     "iopub.execute_input": "2025-07-18T17:47:28.336241Z",
     "iopub.status.busy": "2025-07-18T17:47:28.335564Z",
     "iopub.status.idle": "2025-07-18T17:47:28.355998Z",
     "shell.execute_reply": "2025-07-18T17:47:28.354988Z"
    },
    "papermill": {
     "duration": 0.032184,
     "end_time": "2025-07-18T17:47:28.357523",
     "exception": false,
     "start_time": "2025-07-18T17:47:28.325339",
     "status": "completed"
    },
    "tags": []
   },
   "outputs": [
    {
     "data": {
      "text/html": [
       "<div>\n",
       "<style scoped>\n",
       "    .dataframe tbody tr th:only-of-type {\n",
       "        vertical-align: middle;\n",
       "    }\n",
       "\n",
       "    .dataframe tbody tr th {\n",
       "        vertical-align: top;\n",
       "    }\n",
       "\n",
       "    .dataframe thead th {\n",
       "        text-align: right;\n",
       "    }\n",
       "</style>\n",
       "<table border=\"1\" class=\"dataframe\">\n",
       "  <thead>\n",
       "    <tr style=\"text-align: right;\">\n",
       "      <th></th>\n",
       "      <th>App</th>\n",
       "      <th>Category</th>\n",
       "      <th>Rating</th>\n",
       "      <th>Reviews</th>\n",
       "      <th>Size</th>\n",
       "      <th>Installs</th>\n",
       "      <th>Type</th>\n",
       "      <th>Price</th>\n",
       "      <th>Content Rating</th>\n",
       "      <th>Genres</th>\n",
       "      <th>Last Updated</th>\n",
       "      <th>Current Ver</th>\n",
       "      <th>Android Ver</th>\n",
       "    </tr>\n",
       "  </thead>\n",
       "  <tbody>\n",
       "    <tr>\n",
       "      <th>10472</th>\n",
       "      <td>Life Made WI-Fi Touchscreen Photo Frame</td>\n",
       "      <td>1.9</td>\n",
       "      <td>19.0</td>\n",
       "      <td>3.0M</td>\n",
       "      <td>1,000+</td>\n",
       "      <td>Free</td>\n",
       "      <td>0</td>\n",
       "      <td>Everyone</td>\n",
       "      <td>NaN</td>\n",
       "      <td>February 11, 2018</td>\n",
       "      <td>1.0.19</td>\n",
       "      <td>4.0 and up</td>\n",
       "      <td>NaN</td>\n",
       "    </tr>\n",
       "  </tbody>\n",
       "</table>\n",
       "</div>"
      ],
      "text/plain": [
       "                                           App Category  Rating Reviews  \\\n",
       "10472  Life Made WI-Fi Touchscreen Photo Frame      1.9    19.0    3.0M   \n",
       "\n",
       "         Size Installs Type     Price Content Rating             Genres  \\\n",
       "10472  1,000+     Free    0  Everyone            NaN  February 11, 2018   \n",
       "\n",
       "      Last Updated Current Ver Android Ver  \n",
       "10472       1.0.19  4.0 and up         NaN  "
      ]
     },
     "execution_count": 11,
     "metadata": {},
     "output_type": "execute_result"
    }
   ],
   "source": [
    "df[~df['Reviews'].str.isnumeric()]"
   ]
  },
  {
   "cell_type": "code",
   "execution_count": 12,
   "id": "b485ba2b",
   "metadata": {
    "execution": {
     "iopub.execute_input": "2025-07-18T17:47:28.384382Z",
     "iopub.status.busy": "2025-07-18T17:47:28.383997Z",
     "iopub.status.idle": "2025-07-18T17:47:28.410064Z",
     "shell.execute_reply": "2025-07-18T17:47:28.408963Z"
    },
    "papermill": {
     "duration": 0.042841,
     "end_time": "2025-07-18T17:47:28.411636",
     "exception": false,
     "start_time": "2025-07-18T17:47:28.368795",
     "status": "completed"
    },
    "tags": []
   },
   "outputs": [
    {
     "name": "stdout",
     "output_type": "stream",
     "text": [
      "<class 'pandas.core.frame.DataFrame'>\n",
      "Index: 10840 entries, 0 to 10840\n",
      "Data columns (total 13 columns):\n",
      " #   Column          Non-Null Count  Dtype  \n",
      "---  ------          --------------  -----  \n",
      " 0   App             10840 non-null  object \n",
      " 1   Category        10840 non-null  object \n",
      " 2   Rating          9366 non-null   float64\n",
      " 3   Reviews         10840 non-null  object \n",
      " 4   Size            10840 non-null  object \n",
      " 5   Installs        10840 non-null  object \n",
      " 6   Type            10839 non-null  object \n",
      " 7   Price           10840 non-null  object \n",
      " 8   Content Rating  10840 non-null  object \n",
      " 9   Genres          10840 non-null  object \n",
      " 10  Last Updated    10840 non-null  object \n",
      " 11  Current Ver     10832 non-null  object \n",
      " 12  Android Ver     10838 non-null  object \n",
      "dtypes: float64(1), object(12)\n",
      "memory usage: 1.2+ MB\n"
     ]
    }
   ],
   "source": [
    "df_clean = df.copy()\n",
    "df_clean = df_clean.drop(df_clean.index[10472])\n",
    "df_clean['Reviews'].str.isnumeric().sum()\n",
    "df_clean.info()"
   ]
  },
  {
   "cell_type": "code",
   "execution_count": 13,
   "id": "8483756e",
   "metadata": {
    "execution": {
     "iopub.execute_input": "2025-07-18T17:47:28.431791Z",
     "iopub.status.busy": "2025-07-18T17:47:28.431493Z",
     "iopub.status.idle": "2025-07-18T17:47:28.459324Z",
     "shell.execute_reply": "2025-07-18T17:47:28.458370Z"
    },
    "papermill": {
     "duration": 0.039632,
     "end_time": "2025-07-18T17:47:28.460854",
     "exception": false,
     "start_time": "2025-07-18T17:47:28.421222",
     "status": "completed"
    },
    "tags": []
   },
   "outputs": [
    {
     "name": "stdout",
     "output_type": "stream",
     "text": [
      "<class 'pandas.core.frame.DataFrame'>\n",
      "Index: 10840 entries, 0 to 10840\n",
      "Data columns (total 13 columns):\n",
      " #   Column          Non-Null Count  Dtype  \n",
      "---  ------          --------------  -----  \n",
      " 0   App             10840 non-null  object \n",
      " 1   Category        10840 non-null  object \n",
      " 2   Rating          9366 non-null   float64\n",
      " 3   Reviews         10840 non-null  int64  \n",
      " 4   Size            10840 non-null  object \n",
      " 5   Installs        10840 non-null  object \n",
      " 6   Type            10839 non-null  object \n",
      " 7   Price           10840 non-null  object \n",
      " 8   Content Rating  10840 non-null  object \n",
      " 9   Genres          10840 non-null  object \n",
      " 10  Last Updated    10840 non-null  object \n",
      " 11  Current Ver     10832 non-null  object \n",
      " 12  Android Ver     10838 non-null  object \n",
      "dtypes: float64(1), int64(1), object(11)\n",
      "memory usage: 1.2+ MB\n"
     ]
    },
    {
     "data": {
      "text/html": [
       "<div>\n",
       "<style scoped>\n",
       "    .dataframe tbody tr th:only-of-type {\n",
       "        vertical-align: middle;\n",
       "    }\n",
       "\n",
       "    .dataframe tbody tr th {\n",
       "        vertical-align: top;\n",
       "    }\n",
       "\n",
       "    .dataframe thead th {\n",
       "        text-align: right;\n",
       "    }\n",
       "</style>\n",
       "<table border=\"1\" class=\"dataframe\">\n",
       "  <thead>\n",
       "    <tr style=\"text-align: right;\">\n",
       "      <th></th>\n",
       "      <th>Rating</th>\n",
       "      <th>Reviews</th>\n",
       "    </tr>\n",
       "  </thead>\n",
       "  <tbody>\n",
       "    <tr>\n",
       "      <th>count</th>\n",
       "      <td>9366.000000</td>\n",
       "      <td>1.084000e+04</td>\n",
       "    </tr>\n",
       "    <tr>\n",
       "      <th>mean</th>\n",
       "      <td>4.191757</td>\n",
       "      <td>4.441529e+05</td>\n",
       "    </tr>\n",
       "    <tr>\n",
       "      <th>std</th>\n",
       "      <td>0.515219</td>\n",
       "      <td>2.927761e+06</td>\n",
       "    </tr>\n",
       "    <tr>\n",
       "      <th>min</th>\n",
       "      <td>1.000000</td>\n",
       "      <td>0.000000e+00</td>\n",
       "    </tr>\n",
       "    <tr>\n",
       "      <th>25%</th>\n",
       "      <td>4.000000</td>\n",
       "      <td>3.800000e+01</td>\n",
       "    </tr>\n",
       "    <tr>\n",
       "      <th>50%</th>\n",
       "      <td>4.300000</td>\n",
       "      <td>2.094000e+03</td>\n",
       "    </tr>\n",
       "    <tr>\n",
       "      <th>75%</th>\n",
       "      <td>4.500000</td>\n",
       "      <td>5.477550e+04</td>\n",
       "    </tr>\n",
       "    <tr>\n",
       "      <th>max</th>\n",
       "      <td>5.000000</td>\n",
       "      <td>7.815831e+07</td>\n",
       "    </tr>\n",
       "  </tbody>\n",
       "</table>\n",
       "</div>"
      ],
      "text/plain": [
       "            Rating       Reviews\n",
       "count  9366.000000  1.084000e+04\n",
       "mean      4.191757  4.441529e+05\n",
       "std       0.515219  2.927761e+06\n",
       "min       1.000000  0.000000e+00\n",
       "25%       4.000000  3.800000e+01\n",
       "50%       4.300000  2.094000e+03\n",
       "75%       4.500000  5.477550e+04\n",
       "max       5.000000  7.815831e+07"
      ]
     },
     "execution_count": 13,
     "metadata": {},
     "output_type": "execute_result"
    }
   ],
   "source": [
    "df_clean['Reviews'] = df_clean['Reviews'].astype(int)\n",
    "df_clean.info()\n",
    "df_clean.describe()"
   ]
  },
  {
   "cell_type": "code",
   "execution_count": 14,
   "id": "cd7508a8",
   "metadata": {
    "execution": {
     "iopub.execute_input": "2025-07-18T17:47:28.481495Z",
     "iopub.status.busy": "2025-07-18T17:47:28.481128Z",
     "iopub.status.idle": "2025-07-18T17:47:28.489938Z",
     "shell.execute_reply": "2025-07-18T17:47:28.489066Z"
    },
    "papermill": {
     "duration": 0.020716,
     "end_time": "2025-07-18T17:47:28.491347",
     "exception": false,
     "start_time": "2025-07-18T17:47:28.470631",
     "status": "completed"
    },
    "tags": []
   },
   "outputs": [
    {
     "data": {
      "text/plain": [
       "array(['19M', '14M', '8.7M', '25M', '2.8M', '5.6M', '29M', '33M', '3.1M',\n",
       "       '28M', '12M', '20M', '21M', '37M', '2.7M', '5.5M', '17M', '39M',\n",
       "       '31M', '4.2M', '7.0M', '23M', '6.0M', '6.1M', '4.6M', '9.2M',\n",
       "       '5.2M', '11M', '24M', 'Varies with device', '9.4M', '15M', '10M',\n",
       "       '1.2M', '26M', '8.0M', '7.9M', '56M', '57M', '35M', '54M', '201k',\n",
       "       '3.6M', '5.7M', '8.6M', '2.4M', '27M', '2.5M', '16M', '3.4M',\n",
       "       '8.9M', '3.9M', '2.9M', '38M', '32M', '5.4M', '18M', '1.1M',\n",
       "       '2.2M', '4.5M', '9.8M', '52M', '9.0M', '6.7M', '30M', '2.6M',\n",
       "       '7.1M', '3.7M', '22M', '7.4M', '6.4M', '3.2M', '8.2M', '9.9M',\n",
       "       '4.9M', '9.5M', '5.0M', '5.9M', '13M', '73M', '6.8M', '3.5M',\n",
       "       '4.0M', '2.3M', '7.2M', '2.1M', '42M', '7.3M', '9.1M', '55M',\n",
       "       '23k', '6.5M', '1.5M', '7.5M', '51M', '41M', '48M', '8.5M', '46M',\n",
       "       '8.3M', '4.3M', '4.7M', '3.3M', '40M', '7.8M', '8.8M', '6.6M',\n",
       "       '5.1M', '61M', '66M', '79k', '8.4M', '118k', '44M', '695k', '1.6M',\n",
       "       '6.2M', '18k', '53M', '1.4M', '3.0M', '5.8M', '3.8M', '9.6M',\n",
       "       '45M', '63M', '49M', '77M', '4.4M', '4.8M', '70M', '6.9M', '9.3M',\n",
       "       '10.0M', '8.1M', '36M', '84M', '97M', '2.0M', '1.9M', '1.8M',\n",
       "       '5.3M', '47M', '556k', '526k', '76M', '7.6M', '59M', '9.7M', '78M',\n",
       "       '72M', '43M', '7.7M', '6.3M', '334k', '34M', '93M', '65M', '79M',\n",
       "       '100M', '58M', '50M', '68M', '64M', '67M', '60M', '94M', '232k',\n",
       "       '99M', '624k', '95M', '8.5k', '41k', '292k', '11k', '80M', '1.7M',\n",
       "       '74M', '62M', '69M', '75M', '98M', '85M', '82M', '96M', '87M',\n",
       "       '71M', '86M', '91M', '81M', '92M', '83M', '88M', '704k', '862k',\n",
       "       '899k', '378k', '266k', '375k', '1.3M', '975k', '980k', '4.1M',\n",
       "       '89M', '696k', '544k', '525k', '920k', '779k', '853k', '720k',\n",
       "       '713k', '772k', '318k', '58k', '241k', '196k', '857k', '51k',\n",
       "       '953k', '865k', '251k', '930k', '540k', '313k', '746k', '203k',\n",
       "       '26k', '314k', '239k', '371k', '220k', '730k', '756k', '91k',\n",
       "       '293k', '17k', '74k', '14k', '317k', '78k', '924k', '902k', '818k',\n",
       "       '81k', '939k', '169k', '45k', '475k', '965k', '90M', '545k', '61k',\n",
       "       '283k', '655k', '714k', '93k', '872k', '121k', '322k', '1.0M',\n",
       "       '976k', '172k', '238k', '549k', '206k', '954k', '444k', '717k',\n",
       "       '210k', '609k', '308k', '705k', '306k', '904k', '473k', '175k',\n",
       "       '350k', '383k', '454k', '421k', '70k', '812k', '442k', '842k',\n",
       "       '417k', '412k', '459k', '478k', '335k', '782k', '721k', '430k',\n",
       "       '429k', '192k', '200k', '460k', '728k', '496k', '816k', '414k',\n",
       "       '506k', '887k', '613k', '243k', '569k', '778k', '683k', '592k',\n",
       "       '319k', '186k', '840k', '647k', '191k', '373k', '437k', '598k',\n",
       "       '716k', '585k', '982k', '222k', '219k', '55k', '948k', '323k',\n",
       "       '691k', '511k', '951k', '963k', '25k', '554k', '351k', '27k',\n",
       "       '82k', '208k', '913k', '514k', '551k', '29k', '103k', '898k',\n",
       "       '743k', '116k', '153k', '209k', '353k', '499k', '173k', '597k',\n",
       "       '809k', '122k', '411k', '400k', '801k', '787k', '237k', '50k',\n",
       "       '643k', '986k', '97k', '516k', '837k', '780k', '961k', '269k',\n",
       "       '20k', '498k', '600k', '749k', '642k', '881k', '72k', '656k',\n",
       "       '601k', '221k', '228k', '108k', '940k', '176k', '33k', '663k',\n",
       "       '34k', '942k', '259k', '164k', '458k', '245k', '629k', '28k',\n",
       "       '288k', '775k', '785k', '636k', '916k', '994k', '309k', '485k',\n",
       "       '914k', '903k', '608k', '500k', '54k', '562k', '847k', '957k',\n",
       "       '688k', '811k', '270k', '48k', '329k', '523k', '921k', '874k',\n",
       "       '981k', '784k', '280k', '24k', '518k', '754k', '892k', '154k',\n",
       "       '860k', '364k', '387k', '626k', '161k', '879k', '39k', '970k',\n",
       "       '170k', '141k', '160k', '144k', '143k', '190k', '376k', '193k',\n",
       "       '246k', '73k', '658k', '992k', '253k', '420k', '404k', '470k',\n",
       "       '226k', '240k', '89k', '234k', '257k', '861k', '467k', '157k',\n",
       "       '44k', '676k', '67k', '552k', '885k', '1020k', '582k', '619k'],\n",
       "      dtype=object)"
      ]
     },
     "execution_count": 14,
     "metadata": {},
     "output_type": "execute_result"
    }
   ],
   "source": [
    "df_clean['Size'].value_counts()\n",
    "df_clean['Size'].unique()"
   ]
  },
  {
   "cell_type": "code",
   "execution_count": 15,
   "id": "bcb09c0c",
   "metadata": {
    "execution": {
     "iopub.execute_input": "2025-07-18T17:47:28.512175Z",
     "iopub.status.busy": "2025-07-18T17:47:28.511870Z",
     "iopub.status.idle": "2025-07-18T17:47:28.535066Z",
     "shell.execute_reply": "2025-07-18T17:47:28.534225Z"
    },
    "papermill": {
     "duration": 0.035269,
     "end_time": "2025-07-18T17:47:28.536546",
     "exception": false,
     "start_time": "2025-07-18T17:47:28.501277",
     "status": "completed"
    },
    "tags": []
   },
   "outputs": [
    {
     "data": {
      "text/plain": [
       "array([1.90e+04, 1.40e+04, 8.70e+00, 2.50e+04, 2.80e+00, 5.60e+00,\n",
       "       2.90e+04, 3.30e+04, 3.10e+00, 2.80e+04, 1.20e+04, 2.00e+04,\n",
       "       2.10e+04, 3.70e+04, 2.70e+00, 5.50e+00, 1.70e+04, 3.90e+04,\n",
       "       3.10e+04, 4.20e+00, 7.00e+00, 2.30e+04, 6.00e+00, 6.10e+00,\n",
       "       4.60e+00, 9.20e+00, 5.20e+00, 1.10e+04, 2.40e+04,      nan,\n",
       "       9.40e+00, 1.50e+04, 1.00e+04, 1.20e+00, 2.60e+04, 8.00e+00,\n",
       "       7.90e+00, 5.60e+04, 5.70e+04, 3.50e+04, 5.40e+04, 2.01e+02,\n",
       "       3.60e+00, 5.70e+00, 8.60e+00, 2.40e+00, 2.70e+04, 2.50e+00,\n",
       "       1.60e+04, 3.40e+00, 8.90e+00, 3.90e+00, 2.90e+00, 3.80e+04,\n",
       "       3.20e+04, 5.40e+00, 1.80e+04, 1.10e+00, 2.20e+00, 4.50e+00,\n",
       "       9.80e+00, 5.20e+04, 9.00e+00, 6.70e+00, 3.00e+04, 2.60e+00,\n",
       "       7.10e+00, 3.70e+00, 2.20e+04, 7.40e+00, 6.40e+00, 3.20e+00,\n",
       "       8.20e+00, 9.90e+00, 4.90e+00, 9.50e+00, 5.00e+00, 5.90e+00,\n",
       "       1.30e+04, 7.30e+04, 6.80e+00, 3.50e+00, 4.00e+00, 2.30e+00,\n",
       "       7.20e+00, 2.10e+00, 4.20e+04, 7.30e+00, 9.10e+00, 5.50e+04,\n",
       "       2.30e+01, 6.50e+00, 1.50e+00, 7.50e+00, 5.10e+04, 4.10e+04,\n",
       "       4.80e+04, 8.50e+00, 4.60e+04, 8.30e+00, 4.30e+00, 4.70e+00,\n",
       "       3.30e+00, 4.00e+04, 7.80e+00, 8.80e+00, 6.60e+00, 5.10e+00,\n",
       "       6.10e+04, 6.60e+04, 7.90e+01, 8.40e+00, 1.18e+02, 4.40e+04,\n",
       "       6.95e+02, 1.60e+00, 6.20e+00, 1.80e+01, 5.30e+04, 1.40e+00,\n",
       "       3.00e+00, 5.80e+00, 3.80e+00, 9.60e+00, 4.50e+04, 6.30e+04,\n",
       "       4.90e+04, 7.70e+04, 4.40e+00, 4.80e+00, 7.00e+04, 6.90e+00,\n",
       "       9.30e+00, 1.00e+01, 8.10e+00, 3.60e+04, 8.40e+04, 9.70e+04,\n",
       "       2.00e+00, 1.90e+00, 1.80e+00, 5.30e+00, 4.70e+04, 5.56e+02,\n",
       "       5.26e+02, 7.60e+04, 7.60e+00, 5.90e+04, 9.70e+00, 7.80e+04,\n",
       "       7.20e+04, 4.30e+04, 7.70e+00, 6.30e+00, 3.34e+02, 3.40e+04,\n",
       "       9.30e+04, 6.50e+04, 7.90e+04, 1.00e+05, 5.80e+04, 5.00e+04,\n",
       "       6.80e+04, 6.40e+04, 6.70e+04, 6.00e+04, 9.40e+04, 2.32e+02,\n",
       "       9.90e+04, 6.24e+02, 9.50e+04, 4.10e+01, 2.92e+02, 1.10e+01,\n",
       "       8.00e+04, 1.70e+00, 7.40e+04, 6.20e+04, 6.90e+04, 7.50e+04,\n",
       "       9.80e+04, 8.50e+04, 8.20e+04, 9.60e+04, 8.70e+04, 7.10e+04,\n",
       "       8.60e+04, 9.10e+04, 8.10e+04, 9.20e+04, 8.30e+04, 8.80e+04,\n",
       "       7.04e+02, 8.62e+02, 8.99e+02, 3.78e+02, 2.66e+02, 3.75e+02,\n",
       "       1.30e+00, 9.75e+02, 9.80e+02, 4.10e+00, 8.90e+04, 6.96e+02,\n",
       "       5.44e+02, 5.25e+02, 9.20e+02, 7.79e+02, 8.53e+02, 7.20e+02,\n",
       "       7.13e+02, 7.72e+02, 3.18e+02, 5.80e+01, 2.41e+02, 1.96e+02,\n",
       "       8.57e+02, 5.10e+01, 9.53e+02, 8.65e+02, 2.51e+02, 9.30e+02,\n",
       "       5.40e+02, 3.13e+02, 7.46e+02, 2.03e+02, 2.60e+01, 3.14e+02,\n",
       "       2.39e+02, 3.71e+02, 2.20e+02, 7.30e+02, 7.56e+02, 9.10e+01,\n",
       "       2.93e+02, 1.70e+01, 7.40e+01, 1.40e+01, 3.17e+02, 7.80e+01,\n",
       "       9.24e+02, 9.02e+02, 8.18e+02, 8.10e+01, 9.39e+02, 1.69e+02,\n",
       "       4.50e+01, 4.75e+02, 9.65e+02, 9.00e+04, 5.45e+02, 6.10e+01,\n",
       "       2.83e+02, 6.55e+02, 7.14e+02, 9.30e+01, 8.72e+02, 1.21e+02,\n",
       "       3.22e+02, 1.00e+00, 9.76e+02, 1.72e+02, 2.38e+02, 5.49e+02,\n",
       "       2.06e+02, 9.54e+02, 4.44e+02, 7.17e+02, 2.10e+02, 6.09e+02,\n",
       "       3.08e+02, 7.05e+02, 3.06e+02, 9.04e+02, 4.73e+02, 1.75e+02,\n",
       "       3.50e+02, 3.83e+02, 4.54e+02, 4.21e+02, 7.00e+01, 8.12e+02,\n",
       "       4.42e+02, 8.42e+02, 4.17e+02, 4.12e+02, 4.59e+02, 4.78e+02,\n",
       "       3.35e+02, 7.82e+02, 7.21e+02, 4.30e+02, 4.29e+02, 1.92e+02,\n",
       "       2.00e+02, 4.60e+02, 7.28e+02, 4.96e+02, 8.16e+02, 4.14e+02,\n",
       "       5.06e+02, 8.87e+02, 6.13e+02, 2.43e+02, 5.69e+02, 7.78e+02,\n",
       "       6.83e+02, 5.92e+02, 3.19e+02, 1.86e+02, 8.40e+02, 6.47e+02,\n",
       "       1.91e+02, 3.73e+02, 4.37e+02, 5.98e+02, 7.16e+02, 5.85e+02,\n",
       "       9.82e+02, 2.22e+02, 2.19e+02, 5.50e+01, 9.48e+02, 3.23e+02,\n",
       "       6.91e+02, 5.11e+02, 9.51e+02, 9.63e+02, 2.50e+01, 5.54e+02,\n",
       "       3.51e+02, 2.70e+01, 8.20e+01, 2.08e+02, 9.13e+02, 5.14e+02,\n",
       "       5.51e+02, 2.90e+01, 1.03e+02, 8.98e+02, 7.43e+02, 1.16e+02,\n",
       "       1.53e+02, 2.09e+02, 3.53e+02, 4.99e+02, 1.73e+02, 5.97e+02,\n",
       "       8.09e+02, 1.22e+02, 4.11e+02, 4.00e+02, 8.01e+02, 7.87e+02,\n",
       "       2.37e+02, 5.00e+01, 6.43e+02, 9.86e+02, 9.70e+01, 5.16e+02,\n",
       "       8.37e+02, 7.80e+02, 9.61e+02, 2.69e+02, 2.00e+01, 4.98e+02,\n",
       "       6.00e+02, 7.49e+02, 6.42e+02, 8.81e+02, 7.20e+01, 6.56e+02,\n",
       "       6.01e+02, 2.21e+02, 2.28e+02, 1.08e+02, 9.40e+02, 1.76e+02,\n",
       "       3.30e+01, 6.63e+02, 3.40e+01, 9.42e+02, 2.59e+02, 1.64e+02,\n",
       "       4.58e+02, 2.45e+02, 6.29e+02, 2.80e+01, 2.88e+02, 7.75e+02,\n",
       "       7.85e+02, 6.36e+02, 9.16e+02, 9.94e+02, 3.09e+02, 4.85e+02,\n",
       "       9.14e+02, 9.03e+02, 6.08e+02, 5.00e+02, 5.40e+01, 5.62e+02,\n",
       "       8.47e+02, 9.57e+02, 6.88e+02, 8.11e+02, 2.70e+02, 4.80e+01,\n",
       "       3.29e+02, 5.23e+02, 9.21e+02, 8.74e+02, 9.81e+02, 7.84e+02,\n",
       "       2.80e+02, 2.40e+01, 5.18e+02, 7.54e+02, 8.92e+02, 1.54e+02,\n",
       "       8.60e+02, 3.64e+02, 3.87e+02, 6.26e+02, 1.61e+02, 8.79e+02,\n",
       "       3.90e+01, 9.70e+02, 1.70e+02, 1.41e+02, 1.60e+02, 1.44e+02,\n",
       "       1.43e+02, 1.90e+02, 3.76e+02, 1.93e+02, 2.46e+02, 7.30e+01,\n",
       "       6.58e+02, 9.92e+02, 2.53e+02, 4.20e+02, 4.04e+02, 4.70e+02,\n",
       "       2.26e+02, 2.40e+02, 8.90e+01, 2.34e+02, 2.57e+02, 8.61e+02,\n",
       "       4.67e+02, 1.57e+02, 4.40e+01, 6.76e+02, 6.70e+01, 5.52e+02,\n",
       "       8.85e+02, 1.02e+03, 5.82e+02, 6.19e+02])"
      ]
     },
     "execution_count": 15,
     "metadata": {},
     "output_type": "execute_result"
    }
   ],
   "source": [
    "df_clean['Size'] = df_clean['Size'].str.replace(\"M\", \"000\")\n",
    "df_clean['Size'] = df_clean['Size'].str.replace(\"k\", \" \")\n",
    "df_clean['Size'] = df_clean['Size'].replace(\"Varies with device\", np.nan)\n",
    "df_clean['Size'] = df_clean['Size'].astype(float)\n",
    "df_clean['Size'].unique()\n"
   ]
  },
  {
   "cell_type": "code",
   "execution_count": 16,
   "id": "d00e3b86",
   "metadata": {
    "execution": {
     "iopub.execute_input": "2025-07-18T17:47:28.621840Z",
     "iopub.status.busy": "2025-07-18T17:47:28.621012Z",
     "iopub.status.idle": "2025-07-18T17:47:28.636391Z",
     "shell.execute_reply": "2025-07-18T17:47:28.635260Z"
    },
    "papermill": {
     "duration": 0.027745,
     "end_time": "2025-07-18T17:47:28.637802",
     "exception": false,
     "start_time": "2025-07-18T17:47:28.610057",
     "status": "completed"
    },
    "tags": []
   },
   "outputs": [
    {
     "name": "stdout",
     "output_type": "stream",
     "text": [
      "<class 'pandas.core.frame.DataFrame'>\n",
      "Index: 10840 entries, 0 to 10840\n",
      "Data columns (total 13 columns):\n",
      " #   Column          Non-Null Count  Dtype  \n",
      "---  ------          --------------  -----  \n",
      " 0   App             10840 non-null  object \n",
      " 1   Category        10840 non-null  object \n",
      " 2   Rating          9366 non-null   float64\n",
      " 3   Reviews         10840 non-null  int64  \n",
      " 4   Size            9145 non-null   float64\n",
      " 5   Installs        10840 non-null  object \n",
      " 6   Type            10839 non-null  object \n",
      " 7   Price           10840 non-null  object \n",
      " 8   Content Rating  10840 non-null  object \n",
      " 9   Genres          10840 non-null  object \n",
      " 10  Last Updated    10840 non-null  object \n",
      " 11  Current Ver     10832 non-null  object \n",
      " 12  Android Ver     10838 non-null  object \n",
      "dtypes: float64(2), int64(1), object(10)\n",
      "memory usage: 1.2+ MB\n"
     ]
    }
   ],
   "source": [
    "df_clean.info()"
   ]
  },
  {
   "cell_type": "code",
   "execution_count": 17,
   "id": "cf664707",
   "metadata": {
    "execution": {
     "iopub.execute_input": "2025-07-18T17:47:28.662674Z",
     "iopub.status.busy": "2025-07-18T17:47:28.662368Z",
     "iopub.status.idle": "2025-07-18T17:47:28.672095Z",
     "shell.execute_reply": "2025-07-18T17:47:28.671074Z"
    },
    "papermill": {
     "duration": 0.025676,
     "end_time": "2025-07-18T17:47:28.673619",
     "exception": false,
     "start_time": "2025-07-18T17:47:28.647943",
     "status": "completed"
    },
    "tags": []
   },
   "outputs": [
    {
     "data": {
      "text/plain": [
       "Installs\n",
       "1,000,000+        1579\n",
       "10,000,000+       1252\n",
       "100,000+          1169\n",
       "10,000+           1054\n",
       "1,000+             907\n",
       "5,000,000+         752\n",
       "100+               719\n",
       "500,000+           539\n",
       "50,000+            479\n",
       "5,000+             477\n",
       "100,000,000+       409\n",
       "10+                386\n",
       "500+               330\n",
       "50,000,000+        289\n",
       "50+                205\n",
       "5+                  82\n",
       "500,000,000+        72\n",
       "1+                  67\n",
       "1,000,000,000+      58\n",
       "0+                  14\n",
       "0                    1\n",
       "Name: count, dtype: int64"
      ]
     },
     "execution_count": 17,
     "metadata": {},
     "output_type": "execute_result"
    }
   ],
   "source": [
    "df_clean['Installs'].value_counts()"
   ]
  },
  {
   "cell_type": "code",
   "execution_count": 18,
   "id": "f880f970",
   "metadata": {
    "execution": {
     "iopub.execute_input": "2025-07-18T17:47:28.699621Z",
     "iopub.status.busy": "2025-07-18T17:47:28.699294Z",
     "iopub.status.idle": "2025-07-18T17:47:28.707151Z",
     "shell.execute_reply": "2025-07-18T17:47:28.706025Z"
    },
    "papermill": {
     "duration": 0.023982,
     "end_time": "2025-07-18T17:47:28.708759",
     "exception": false,
     "start_time": "2025-07-18T17:47:28.684777",
     "status": "completed"
    },
    "tags": []
   },
   "outputs": [
    {
     "data": {
      "text/plain": [
       "array(['10,000+', '500,000+', '5,000,000+', '50,000,000+', '100,000+',\n",
       "       '50,000+', '1,000,000+', '10,000,000+', '5,000+', '100,000,000+',\n",
       "       '1,000,000,000+', '1,000+', '500,000,000+', '50+', '100+', '500+',\n",
       "       '10+', '1+', '5+', '0+', '0'], dtype=object)"
      ]
     },
     "execution_count": 18,
     "metadata": {},
     "output_type": "execute_result"
    }
   ],
   "source": [
    "df_clean['Installs'].unique() "
   ]
  },
  {
   "cell_type": "code",
   "execution_count": 19,
   "id": "79f07489",
   "metadata": {
    "execution": {
     "iopub.execute_input": "2025-07-18T17:47:28.731499Z",
     "iopub.status.busy": "2025-07-18T17:47:28.730857Z",
     "iopub.status.idle": "2025-07-18T17:47:28.738943Z",
     "shell.execute_reply": "2025-07-18T17:47:28.738118Z"
    },
    "papermill": {
     "duration": 0.020647,
     "end_time": "2025-07-18T17:47:28.740245",
     "exception": false,
     "start_time": "2025-07-18T17:47:28.719598",
     "status": "completed"
    },
    "tags": []
   },
   "outputs": [
    {
     "data": {
      "text/plain": [
       "array(['0', '$4.99', '$3.99', '$6.99', '$1.49', '$2.99', '$7.99', '$5.99',\n",
       "       '$3.49', '$1.99', '$9.99', '$7.49', '$0.99', '$9.00', '$5.49',\n",
       "       '$10.00', '$24.99', '$11.99', '$79.99', '$16.99', '$14.99',\n",
       "       '$1.00', '$29.99', '$12.99', '$2.49', '$10.99', '$1.50', '$19.99',\n",
       "       '$15.99', '$33.99', '$74.99', '$39.99', '$3.95', '$4.49', '$1.70',\n",
       "       '$8.99', '$2.00', '$3.88', '$25.99', '$399.99', '$17.99',\n",
       "       '$400.00', '$3.02', '$1.76', '$4.84', '$4.77', '$1.61', '$2.50',\n",
       "       '$1.59', '$6.49', '$1.29', '$5.00', '$13.99', '$299.99', '$379.99',\n",
       "       '$37.99', '$18.99', '$389.99', '$19.90', '$8.49', '$1.75',\n",
       "       '$14.00', '$4.85', '$46.99', '$109.99', '$154.99', '$3.08',\n",
       "       '$2.59', '$4.80', '$1.96', '$19.40', '$3.90', '$4.59', '$15.46',\n",
       "       '$3.04', '$4.29', '$2.60', '$3.28', '$4.60', '$28.99', '$2.95',\n",
       "       '$2.90', '$1.97', '$200.00', '$89.99', '$2.56', '$30.99', '$3.61',\n",
       "       '$394.99', '$1.26', '$1.20', '$1.04'], dtype=object)"
      ]
     },
     "execution_count": 19,
     "metadata": {},
     "output_type": "execute_result"
    }
   ],
   "source": [
    "df_clean['Price'].value_counts()\n",
    "df_clean['Price'].unique()"
   ]
  },
  {
   "cell_type": "code",
   "execution_count": 20,
   "id": "7b587935",
   "metadata": {
    "execution": {
     "iopub.execute_input": "2025-07-18T17:47:28.762745Z",
     "iopub.status.busy": "2025-07-18T17:47:28.762094Z",
     "iopub.status.idle": "2025-07-18T17:47:28.787370Z",
     "shell.execute_reply": "2025-07-18T17:47:28.786478Z"
    },
    "papermill": {
     "duration": 0.038014,
     "end_time": "2025-07-18T17:47:28.788958",
     "exception": false,
     "start_time": "2025-07-18T17:47:28.750944",
     "status": "completed"
    },
    "tags": []
   },
   "outputs": [
    {
     "data": {
      "text/plain": [
       "array(['0', '4.99', '3.99', '6.99', '1.49', '2.99', '7.99', '5.99',\n",
       "       '3.49', '1.99', '9.99', '7.49', '0.99', '9.00', '5.49', '10.00',\n",
       "       '24.99', '11.99', '79.99', '16.99', '14.99', '1.00', '29.99',\n",
       "       '12.99', '2.49', '10.99', '1.50', '19.99', '15.99', '33.99',\n",
       "       '74.99', '39.99', '3.95', '4.49', '1.70', '8.99', '2.00', '3.88',\n",
       "       '25.99', '399.99', '17.99', '400.00', '3.02', '1.76', '4.84',\n",
       "       '4.77', '1.61', '2.50', '1.59', '6.49', '1.29', '5.00', '13.99',\n",
       "       '299.99', '379.99', '37.99', '18.99', '389.99', '19.90', '8.49',\n",
       "       '1.75', '14.00', '4.85', '46.99', '109.99', '154.99', '3.08',\n",
       "       '2.59', '4.80', '1.96', '19.40', '3.90', '4.59', '15.46', '3.04',\n",
       "       '4.29', '2.60', '3.28', '4.60', '28.99', '2.95', '2.90', '1.97',\n",
       "       '200.00', '89.99', '2.56', '30.99', '3.61', '394.99', '1.26',\n",
       "       '1.20', '1.04'], dtype=object)"
      ]
     },
     "execution_count": 20,
     "metadata": {},
     "output_type": "execute_result"
    }
   ],
   "source": [
    "chars_to_remove = [\"+\", \",\", \"$\"]\n",
    "cols_to_clean = [\"Installs\", \"Price\"]\n",
    "for item in chars_to_remove:\n",
    "    for cols in cols_to_clean:\n",
    "        df_clean[cols] = df_clean[cols].str.replace(item, \"\")\n",
    "\n",
    "df_clean[\"Price\"].unique()\n"
   ]
  },
  {
   "cell_type": "code",
   "execution_count": 21,
   "id": "e7568cda",
   "metadata": {
    "execution": {
     "iopub.execute_input": "2025-07-18T17:47:28.812017Z",
     "iopub.status.busy": "2025-07-18T17:47:28.811715Z",
     "iopub.status.idle": "2025-07-18T17:47:28.818477Z",
     "shell.execute_reply": "2025-07-18T17:47:28.817627Z"
    },
    "papermill": {
     "duration": 0.020024,
     "end_time": "2025-07-18T17:47:28.819967",
     "exception": false,
     "start_time": "2025-07-18T17:47:28.799943",
     "status": "completed"
    },
    "tags": []
   },
   "outputs": [
    {
     "data": {
      "text/plain": [
       "array(['10000', '500000', '5000000', '50000000', '100000', '50000',\n",
       "       '1000000', '10000000', '5000', '100000000', '1000000000', '1000',\n",
       "       '500000000', '50', '100', '500', '10', '1', '5', '0'], dtype=object)"
      ]
     },
     "execution_count": 21,
     "metadata": {},
     "output_type": "execute_result"
    }
   ],
   "source": [
    "df_clean[\"Installs\"].unique()"
   ]
  },
  {
   "cell_type": "code",
   "execution_count": 22,
   "id": "f7b6b126",
   "metadata": {
    "execution": {
     "iopub.execute_input": "2025-07-18T17:47:28.843691Z",
     "iopub.status.busy": "2025-07-18T17:47:28.843364Z",
     "iopub.status.idle": "2025-07-18T17:47:28.867565Z",
     "shell.execute_reply": "2025-07-18T17:47:28.866700Z"
    },
    "papermill": {
     "duration": 0.037987,
     "end_time": "2025-07-18T17:47:28.869030",
     "exception": false,
     "start_time": "2025-07-18T17:47:28.831043",
     "status": "completed"
    },
    "tags": []
   },
   "outputs": [
    {
     "data": {
      "text/html": [
       "<div>\n",
       "<style scoped>\n",
       "    .dataframe tbody tr th:only-of-type {\n",
       "        vertical-align: middle;\n",
       "    }\n",
       "\n",
       "    .dataframe tbody tr th {\n",
       "        vertical-align: top;\n",
       "    }\n",
       "\n",
       "    .dataframe thead th {\n",
       "        text-align: right;\n",
       "    }\n",
       "</style>\n",
       "<table border=\"1\" class=\"dataframe\">\n",
       "  <thead>\n",
       "    <tr style=\"text-align: right;\">\n",
       "      <th></th>\n",
       "      <th>Rating</th>\n",
       "      <th>Reviews</th>\n",
       "      <th>Size</th>\n",
       "      <th>Installs</th>\n",
       "      <th>Price</th>\n",
       "    </tr>\n",
       "  </thead>\n",
       "  <tbody>\n",
       "    <tr>\n",
       "      <th>count</th>\n",
       "      <td>9366.000000</td>\n",
       "      <td>1.084000e+04</td>\n",
       "      <td>9145.000000</td>\n",
       "      <td>1.084000e+04</td>\n",
       "      <td>10840.000000</td>\n",
       "    </tr>\n",
       "    <tr>\n",
       "      <th>mean</th>\n",
       "      <td>4.191757</td>\n",
       "      <td>4.441529e+05</td>\n",
       "      <td>19579.419913</td>\n",
       "      <td>1.546434e+07</td>\n",
       "      <td>1.027368</td>\n",
       "    </tr>\n",
       "    <tr>\n",
       "      <th>std</th>\n",
       "      <td>0.515219</td>\n",
       "      <td>2.927761e+06</td>\n",
       "      <td>24042.062020</td>\n",
       "      <td>8.502936e+07</td>\n",
       "      <td>15.949703</td>\n",
       "    </tr>\n",
       "    <tr>\n",
       "      <th>min</th>\n",
       "      <td>1.000000</td>\n",
       "      <td>0.000000e+00</td>\n",
       "      <td>1.000000</td>\n",
       "      <td>0.000000e+00</td>\n",
       "      <td>0.000000</td>\n",
       "    </tr>\n",
       "    <tr>\n",
       "      <th>25%</th>\n",
       "      <td>4.000000</td>\n",
       "      <td>3.800000e+01</td>\n",
       "      <td>5.600000</td>\n",
       "      <td>1.000000e+03</td>\n",
       "      <td>0.000000</td>\n",
       "    </tr>\n",
       "    <tr>\n",
       "      <th>50%</th>\n",
       "      <td>4.300000</td>\n",
       "      <td>2.094000e+03</td>\n",
       "      <td>13000.000000</td>\n",
       "      <td>1.000000e+05</td>\n",
       "      <td>0.000000</td>\n",
       "    </tr>\n",
       "    <tr>\n",
       "      <th>75%</th>\n",
       "      <td>4.500000</td>\n",
       "      <td>5.477550e+04</td>\n",
       "      <td>30000.000000</td>\n",
       "      <td>5.000000e+06</td>\n",
       "      <td>0.000000</td>\n",
       "    </tr>\n",
       "    <tr>\n",
       "      <th>max</th>\n",
       "      <td>5.000000</td>\n",
       "      <td>7.815831e+07</td>\n",
       "      <td>100000.000000</td>\n",
       "      <td>1.000000e+09</td>\n",
       "      <td>400.000000</td>\n",
       "    </tr>\n",
       "  </tbody>\n",
       "</table>\n",
       "</div>"
      ],
      "text/plain": [
       "            Rating       Reviews           Size      Installs         Price\n",
       "count  9366.000000  1.084000e+04    9145.000000  1.084000e+04  10840.000000\n",
       "mean      4.191757  4.441529e+05   19579.419913  1.546434e+07      1.027368\n",
       "std       0.515219  2.927761e+06   24042.062020  8.502936e+07     15.949703\n",
       "min       1.000000  0.000000e+00       1.000000  0.000000e+00      0.000000\n",
       "25%       4.000000  3.800000e+01       5.600000  1.000000e+03      0.000000\n",
       "50%       4.300000  2.094000e+03   13000.000000  1.000000e+05      0.000000\n",
       "75%       4.500000  5.477550e+04   30000.000000  5.000000e+06      0.000000\n",
       "max       5.000000  7.815831e+07  100000.000000  1.000000e+09    400.000000"
      ]
     },
     "execution_count": 22,
     "metadata": {},
     "output_type": "execute_result"
    }
   ],
   "source": [
    "df_clean['Price'] = df_clean['Price'].astype(float)\n",
    "df_clean['Installs'] = df_clean['Installs'].astype(int)\n",
    "df_clean.describe()"
   ]
  },
  {
   "cell_type": "code",
   "execution_count": 23,
   "id": "30ffdbd5",
   "metadata": {
    "execution": {
     "iopub.execute_input": "2025-07-18T17:47:28.891923Z",
     "iopub.status.busy": "2025-07-18T17:47:28.891652Z",
     "iopub.status.idle": "2025-07-18T17:47:28.904963Z",
     "shell.execute_reply": "2025-07-18T17:47:28.904112Z"
    },
    "papermill": {
     "duration": 0.026455,
     "end_time": "2025-07-18T17:47:28.906313",
     "exception": false,
     "start_time": "2025-07-18T17:47:28.879858",
     "status": "completed"
    },
    "tags": []
   },
   "outputs": [
    {
     "data": {
      "text/html": [
       "<div>\n",
       "<style scoped>\n",
       "    .dataframe tbody tr th:only-of-type {\n",
       "        vertical-align: middle;\n",
       "    }\n",
       "\n",
       "    .dataframe tbody tr th {\n",
       "        vertical-align: top;\n",
       "    }\n",
       "\n",
       "    .dataframe thead th {\n",
       "        text-align: right;\n",
       "    }\n",
       "</style>\n",
       "<table border=\"1\" class=\"dataframe\">\n",
       "  <thead>\n",
       "    <tr style=\"text-align: right;\">\n",
       "      <th></th>\n",
       "      <th>App</th>\n",
       "      <th>Category</th>\n",
       "      <th>Rating</th>\n",
       "      <th>Reviews</th>\n",
       "      <th>Size</th>\n",
       "      <th>Installs</th>\n",
       "      <th>Type</th>\n",
       "      <th>Price</th>\n",
       "      <th>Content Rating</th>\n",
       "      <th>Genres</th>\n",
       "      <th>Last Updated</th>\n",
       "      <th>Current Ver</th>\n",
       "      <th>Android Ver</th>\n",
       "    </tr>\n",
       "  </thead>\n",
       "  <tbody>\n",
       "    <tr>\n",
       "      <th>0</th>\n",
       "      <td>Photo Editor &amp; Candy Camera &amp; Grid &amp; ScrapBook</td>\n",
       "      <td>ART_AND_DESIGN</td>\n",
       "      <td>4.1</td>\n",
       "      <td>159</td>\n",
       "      <td>19000.0</td>\n",
       "      <td>10000</td>\n",
       "      <td>Free</td>\n",
       "      <td>0.0</td>\n",
       "      <td>Everyone</td>\n",
       "      <td>Art &amp; Design</td>\n",
       "      <td>January 7, 2018</td>\n",
       "      <td>1.0.0</td>\n",
       "      <td>4.0.3 and up</td>\n",
       "    </tr>\n",
       "    <tr>\n",
       "      <th>1</th>\n",
       "      <td>Coloring book moana</td>\n",
       "      <td>ART_AND_DESIGN</td>\n",
       "      <td>3.9</td>\n",
       "      <td>967</td>\n",
       "      <td>14000.0</td>\n",
       "      <td>500000</td>\n",
       "      <td>Free</td>\n",
       "      <td>0.0</td>\n",
       "      <td>Everyone</td>\n",
       "      <td>Art &amp; Design;Pretend Play</td>\n",
       "      <td>January 15, 2018</td>\n",
       "      <td>2.0.0</td>\n",
       "      <td>4.0.3 and up</td>\n",
       "    </tr>\n",
       "    <tr>\n",
       "      <th>2</th>\n",
       "      <td>U Launcher Lite – FREE Live Cool Themes, Hide ...</td>\n",
       "      <td>ART_AND_DESIGN</td>\n",
       "      <td>4.7</td>\n",
       "      <td>87510</td>\n",
       "      <td>8.7</td>\n",
       "      <td>5000000</td>\n",
       "      <td>Free</td>\n",
       "      <td>0.0</td>\n",
       "      <td>Everyone</td>\n",
       "      <td>Art &amp; Design</td>\n",
       "      <td>August 1, 2018</td>\n",
       "      <td>1.2.4</td>\n",
       "      <td>4.0.3 and up</td>\n",
       "    </tr>\n",
       "    <tr>\n",
       "      <th>3</th>\n",
       "      <td>Sketch - Draw &amp; Paint</td>\n",
       "      <td>ART_AND_DESIGN</td>\n",
       "      <td>4.5</td>\n",
       "      <td>215644</td>\n",
       "      <td>25000.0</td>\n",
       "      <td>50000000</td>\n",
       "      <td>Free</td>\n",
       "      <td>0.0</td>\n",
       "      <td>Teen</td>\n",
       "      <td>Art &amp; Design</td>\n",
       "      <td>June 8, 2018</td>\n",
       "      <td>Varies with device</td>\n",
       "      <td>4.2 and up</td>\n",
       "    </tr>\n",
       "    <tr>\n",
       "      <th>4</th>\n",
       "      <td>Pixel Draw - Number Art Coloring Book</td>\n",
       "      <td>ART_AND_DESIGN</td>\n",
       "      <td>4.3</td>\n",
       "      <td>967</td>\n",
       "      <td>2.8</td>\n",
       "      <td>100000</td>\n",
       "      <td>Free</td>\n",
       "      <td>0.0</td>\n",
       "      <td>Everyone</td>\n",
       "      <td>Art &amp; Design;Creativity</td>\n",
       "      <td>June 20, 2018</td>\n",
       "      <td>1.1</td>\n",
       "      <td>4.4 and up</td>\n",
       "    </tr>\n",
       "  </tbody>\n",
       "</table>\n",
       "</div>"
      ],
      "text/plain": [
       "                                                 App        Category  Rating  \\\n",
       "0     Photo Editor & Candy Camera & Grid & ScrapBook  ART_AND_DESIGN     4.1   \n",
       "1                                Coloring book moana  ART_AND_DESIGN     3.9   \n",
       "2  U Launcher Lite – FREE Live Cool Themes, Hide ...  ART_AND_DESIGN     4.7   \n",
       "3                              Sketch - Draw & Paint  ART_AND_DESIGN     4.5   \n",
       "4              Pixel Draw - Number Art Coloring Book  ART_AND_DESIGN     4.3   \n",
       "\n",
       "   Reviews     Size  Installs  Type  Price Content Rating  \\\n",
       "0      159  19000.0     10000  Free    0.0       Everyone   \n",
       "1      967  14000.0    500000  Free    0.0       Everyone   \n",
       "2    87510      8.7   5000000  Free    0.0       Everyone   \n",
       "3   215644  25000.0  50000000  Free    0.0           Teen   \n",
       "4      967      2.8    100000  Free    0.0       Everyone   \n",
       "\n",
       "                      Genres      Last Updated         Current Ver  \\\n",
       "0               Art & Design   January 7, 2018               1.0.0   \n",
       "1  Art & Design;Pretend Play  January 15, 2018               2.0.0   \n",
       "2               Art & Design    August 1, 2018               1.2.4   \n",
       "3               Art & Design      June 8, 2018  Varies with device   \n",
       "4    Art & Design;Creativity     June 20, 2018                 1.1   \n",
       "\n",
       "    Android Ver  \n",
       "0  4.0.3 and up  \n",
       "1  4.0.3 and up  \n",
       "2  4.0.3 and up  \n",
       "3    4.2 and up  \n",
       "4    4.4 and up  "
      ]
     },
     "execution_count": 23,
     "metadata": {},
     "output_type": "execute_result"
    }
   ],
   "source": [
    "df_clean.head()"
   ]
  },
  {
   "cell_type": "code",
   "execution_count": 24,
   "id": "fb1a4728",
   "metadata": {
    "execution": {
     "iopub.execute_input": "2025-07-18T17:47:28.929910Z",
     "iopub.status.busy": "2025-07-18T17:47:28.929602Z",
     "iopub.status.idle": "2025-07-18T17:47:28.935761Z",
     "shell.execute_reply": "2025-07-18T17:47:28.935004Z"
    },
    "papermill": {
     "duration": 0.019586,
     "end_time": "2025-07-18T17:47:28.937039",
     "exception": false,
     "start_time": "2025-07-18T17:47:28.917453",
     "status": "completed"
    },
    "tags": []
   },
   "outputs": [
    {
     "data": {
      "text/plain": [
       "array(['January 7, 2018', 'January 15, 2018', 'August 1, 2018', ...,\n",
       "       'January 20, 2014', 'February 16, 2014', 'March 23, 2014'],\n",
       "      dtype=object)"
      ]
     },
     "execution_count": 24,
     "metadata": {},
     "output_type": "execute_result"
    }
   ],
   "source": [
    "df_clean['Last Updated'].unique()"
   ]
  },
  {
   "cell_type": "code",
   "execution_count": 25,
   "id": "4c637cda",
   "metadata": {
    "execution": {
     "iopub.execute_input": "2025-07-18T17:47:28.960166Z",
     "iopub.status.busy": "2025-07-18T17:47:28.959861Z",
     "iopub.status.idle": "2025-07-18T17:47:28.984432Z",
     "shell.execute_reply": "2025-07-18T17:47:28.983284Z"
    },
    "papermill": {
     "duration": 0.037813,
     "end_time": "2025-07-18T17:47:28.985847",
     "exception": false,
     "start_time": "2025-07-18T17:47:28.948034",
     "status": "completed"
    },
    "tags": []
   },
   "outputs": [
    {
     "data": {
      "text/html": [
       "<div>\n",
       "<style scoped>\n",
       "    .dataframe tbody tr th:only-of-type {\n",
       "        vertical-align: middle;\n",
       "    }\n",
       "\n",
       "    .dataframe tbody tr th {\n",
       "        vertical-align: top;\n",
       "    }\n",
       "\n",
       "    .dataframe thead th {\n",
       "        text-align: right;\n",
       "    }\n",
       "</style>\n",
       "<table border=\"1\" class=\"dataframe\">\n",
       "  <thead>\n",
       "    <tr style=\"text-align: right;\">\n",
       "      <th></th>\n",
       "      <th>App</th>\n",
       "      <th>Category</th>\n",
       "      <th>Rating</th>\n",
       "      <th>Reviews</th>\n",
       "      <th>Size</th>\n",
       "      <th>Installs</th>\n",
       "      <th>Type</th>\n",
       "      <th>Price</th>\n",
       "      <th>Content Rating</th>\n",
       "      <th>Genres</th>\n",
       "      <th>Last Updated</th>\n",
       "      <th>Current Ver</th>\n",
       "      <th>Android Ver</th>\n",
       "    </tr>\n",
       "  </thead>\n",
       "  <tbody>\n",
       "    <tr>\n",
       "      <th>0</th>\n",
       "      <td>Photo Editor &amp; Candy Camera &amp; Grid &amp; ScrapBook</td>\n",
       "      <td>ART_AND_DESIGN</td>\n",
       "      <td>4.1</td>\n",
       "      <td>159</td>\n",
       "      <td>19000.0</td>\n",
       "      <td>10000</td>\n",
       "      <td>Free</td>\n",
       "      <td>0.0</td>\n",
       "      <td>Everyone</td>\n",
       "      <td>Art &amp; Design</td>\n",
       "      <td>2018-01-07</td>\n",
       "      <td>1.0.0</td>\n",
       "      <td>4.0.3 and up</td>\n",
       "    </tr>\n",
       "    <tr>\n",
       "      <th>1</th>\n",
       "      <td>Coloring book moana</td>\n",
       "      <td>ART_AND_DESIGN</td>\n",
       "      <td>3.9</td>\n",
       "      <td>967</td>\n",
       "      <td>14000.0</td>\n",
       "      <td>500000</td>\n",
       "      <td>Free</td>\n",
       "      <td>0.0</td>\n",
       "      <td>Everyone</td>\n",
       "      <td>Art &amp; Design;Pretend Play</td>\n",
       "      <td>2018-01-15</td>\n",
       "      <td>2.0.0</td>\n",
       "      <td>4.0.3 and up</td>\n",
       "    </tr>\n",
       "    <tr>\n",
       "      <th>2</th>\n",
       "      <td>U Launcher Lite – FREE Live Cool Themes, Hide ...</td>\n",
       "      <td>ART_AND_DESIGN</td>\n",
       "      <td>4.7</td>\n",
       "      <td>87510</td>\n",
       "      <td>8.7</td>\n",
       "      <td>5000000</td>\n",
       "      <td>Free</td>\n",
       "      <td>0.0</td>\n",
       "      <td>Everyone</td>\n",
       "      <td>Art &amp; Design</td>\n",
       "      <td>2018-08-01</td>\n",
       "      <td>1.2.4</td>\n",
       "      <td>4.0.3 and up</td>\n",
       "    </tr>\n",
       "    <tr>\n",
       "      <th>3</th>\n",
       "      <td>Sketch - Draw &amp; Paint</td>\n",
       "      <td>ART_AND_DESIGN</td>\n",
       "      <td>4.5</td>\n",
       "      <td>215644</td>\n",
       "      <td>25000.0</td>\n",
       "      <td>50000000</td>\n",
       "      <td>Free</td>\n",
       "      <td>0.0</td>\n",
       "      <td>Teen</td>\n",
       "      <td>Art &amp; Design</td>\n",
       "      <td>2018-06-08</td>\n",
       "      <td>Varies with device</td>\n",
       "      <td>4.2 and up</td>\n",
       "    </tr>\n",
       "    <tr>\n",
       "      <th>4</th>\n",
       "      <td>Pixel Draw - Number Art Coloring Book</td>\n",
       "      <td>ART_AND_DESIGN</td>\n",
       "      <td>4.3</td>\n",
       "      <td>967</td>\n",
       "      <td>2.8</td>\n",
       "      <td>100000</td>\n",
       "      <td>Free</td>\n",
       "      <td>0.0</td>\n",
       "      <td>Everyone</td>\n",
       "      <td>Art &amp; Design;Creativity</td>\n",
       "      <td>2018-06-20</td>\n",
       "      <td>1.1</td>\n",
       "      <td>4.4 and up</td>\n",
       "    </tr>\n",
       "  </tbody>\n",
       "</table>\n",
       "</div>"
      ],
      "text/plain": [
       "                                                 App        Category  Rating  \\\n",
       "0     Photo Editor & Candy Camera & Grid & ScrapBook  ART_AND_DESIGN     4.1   \n",
       "1                                Coloring book moana  ART_AND_DESIGN     3.9   \n",
       "2  U Launcher Lite – FREE Live Cool Themes, Hide ...  ART_AND_DESIGN     4.7   \n",
       "3                              Sketch - Draw & Paint  ART_AND_DESIGN     4.5   \n",
       "4              Pixel Draw - Number Art Coloring Book  ART_AND_DESIGN     4.3   \n",
       "\n",
       "   Reviews     Size  Installs  Type  Price Content Rating  \\\n",
       "0      159  19000.0     10000  Free    0.0       Everyone   \n",
       "1      967  14000.0    500000  Free    0.0       Everyone   \n",
       "2    87510      8.7   5000000  Free    0.0       Everyone   \n",
       "3   215644  25000.0  50000000  Free    0.0           Teen   \n",
       "4      967      2.8    100000  Free    0.0       Everyone   \n",
       "\n",
       "                      Genres Last Updated         Current Ver   Android Ver  \n",
       "0               Art & Design   2018-01-07               1.0.0  4.0.3 and up  \n",
       "1  Art & Design;Pretend Play   2018-01-15               2.0.0  4.0.3 and up  \n",
       "2               Art & Design   2018-08-01               1.2.4  4.0.3 and up  \n",
       "3               Art & Design   2018-06-08  Varies with device    4.2 and up  \n",
       "4    Art & Design;Creativity   2018-06-20                 1.1    4.4 and up  "
      ]
     },
     "execution_count": 25,
     "metadata": {},
     "output_type": "execute_result"
    }
   ],
   "source": [
    "df_clean['Last Updated'] = pd.to_datetime(df_clean['Last Updated'])\n",
    "df_clean.head()"
   ]
  },
  {
   "cell_type": "code",
   "execution_count": 26,
   "id": "470b2c16",
   "metadata": {
    "execution": {
     "iopub.execute_input": "2025-07-18T17:47:29.009660Z",
     "iopub.status.busy": "2025-07-18T17:47:29.009360Z",
     "iopub.status.idle": "2025-07-18T17:47:29.027181Z",
     "shell.execute_reply": "2025-07-18T17:47:29.026344Z"
    },
    "papermill": {
     "duration": 0.031414,
     "end_time": "2025-07-18T17:47:29.028620",
     "exception": false,
     "start_time": "2025-07-18T17:47:28.997206",
     "status": "completed"
    },
    "tags": []
   },
   "outputs": [
    {
     "data": {
      "text/html": [
       "<div>\n",
       "<style scoped>\n",
       "    .dataframe tbody tr th:only-of-type {\n",
       "        vertical-align: middle;\n",
       "    }\n",
       "\n",
       "    .dataframe tbody tr th {\n",
       "        vertical-align: top;\n",
       "    }\n",
       "\n",
       "    .dataframe thead th {\n",
       "        text-align: right;\n",
       "    }\n",
       "</style>\n",
       "<table border=\"1\" class=\"dataframe\">\n",
       "  <thead>\n",
       "    <tr style=\"text-align: right;\">\n",
       "      <th></th>\n",
       "      <th>App</th>\n",
       "      <th>Category</th>\n",
       "      <th>Rating</th>\n",
       "      <th>Reviews</th>\n",
       "      <th>Size</th>\n",
       "      <th>Installs</th>\n",
       "      <th>Type</th>\n",
       "      <th>Price</th>\n",
       "      <th>Content Rating</th>\n",
       "      <th>Genres</th>\n",
       "      <th>Last Updated</th>\n",
       "      <th>Current Ver</th>\n",
       "      <th>Android Ver</th>\n",
       "      <th>Day</th>\n",
       "      <th>Month</th>\n",
       "      <th>Year</th>\n",
       "    </tr>\n",
       "  </thead>\n",
       "  <tbody>\n",
       "    <tr>\n",
       "      <th>0</th>\n",
       "      <td>Photo Editor &amp; Candy Camera &amp; Grid &amp; ScrapBook</td>\n",
       "      <td>ART_AND_DESIGN</td>\n",
       "      <td>4.1</td>\n",
       "      <td>159</td>\n",
       "      <td>19000.0</td>\n",
       "      <td>10000</td>\n",
       "      <td>Free</td>\n",
       "      <td>0.0</td>\n",
       "      <td>Everyone</td>\n",
       "      <td>Art &amp; Design</td>\n",
       "      <td>2018-01-07</td>\n",
       "      <td>1.0.0</td>\n",
       "      <td>4.0.3 and up</td>\n",
       "      <td>7</td>\n",
       "      <td>1</td>\n",
       "      <td>2018</td>\n",
       "    </tr>\n",
       "    <tr>\n",
       "      <th>1</th>\n",
       "      <td>Coloring book moana</td>\n",
       "      <td>ART_AND_DESIGN</td>\n",
       "      <td>3.9</td>\n",
       "      <td>967</td>\n",
       "      <td>14000.0</td>\n",
       "      <td>500000</td>\n",
       "      <td>Free</td>\n",
       "      <td>0.0</td>\n",
       "      <td>Everyone</td>\n",
       "      <td>Art &amp; Design;Pretend Play</td>\n",
       "      <td>2018-01-15</td>\n",
       "      <td>2.0.0</td>\n",
       "      <td>4.0.3 and up</td>\n",
       "      <td>15</td>\n",
       "      <td>1</td>\n",
       "      <td>2018</td>\n",
       "    </tr>\n",
       "    <tr>\n",
       "      <th>2</th>\n",
       "      <td>U Launcher Lite – FREE Live Cool Themes, Hide ...</td>\n",
       "      <td>ART_AND_DESIGN</td>\n",
       "      <td>4.7</td>\n",
       "      <td>87510</td>\n",
       "      <td>8.7</td>\n",
       "      <td>5000000</td>\n",
       "      <td>Free</td>\n",
       "      <td>0.0</td>\n",
       "      <td>Everyone</td>\n",
       "      <td>Art &amp; Design</td>\n",
       "      <td>2018-08-01</td>\n",
       "      <td>1.2.4</td>\n",
       "      <td>4.0.3 and up</td>\n",
       "      <td>1</td>\n",
       "      <td>8</td>\n",
       "      <td>2018</td>\n",
       "    </tr>\n",
       "    <tr>\n",
       "      <th>3</th>\n",
       "      <td>Sketch - Draw &amp; Paint</td>\n",
       "      <td>ART_AND_DESIGN</td>\n",
       "      <td>4.5</td>\n",
       "      <td>215644</td>\n",
       "      <td>25000.0</td>\n",
       "      <td>50000000</td>\n",
       "      <td>Free</td>\n",
       "      <td>0.0</td>\n",
       "      <td>Teen</td>\n",
       "      <td>Art &amp; Design</td>\n",
       "      <td>2018-06-08</td>\n",
       "      <td>Varies with device</td>\n",
       "      <td>4.2 and up</td>\n",
       "      <td>8</td>\n",
       "      <td>6</td>\n",
       "      <td>2018</td>\n",
       "    </tr>\n",
       "    <tr>\n",
       "      <th>4</th>\n",
       "      <td>Pixel Draw - Number Art Coloring Book</td>\n",
       "      <td>ART_AND_DESIGN</td>\n",
       "      <td>4.3</td>\n",
       "      <td>967</td>\n",
       "      <td>2.8</td>\n",
       "      <td>100000</td>\n",
       "      <td>Free</td>\n",
       "      <td>0.0</td>\n",
       "      <td>Everyone</td>\n",
       "      <td>Art &amp; Design;Creativity</td>\n",
       "      <td>2018-06-20</td>\n",
       "      <td>1.1</td>\n",
       "      <td>4.4 and up</td>\n",
       "      <td>20</td>\n",
       "      <td>6</td>\n",
       "      <td>2018</td>\n",
       "    </tr>\n",
       "  </tbody>\n",
       "</table>\n",
       "</div>"
      ],
      "text/plain": [
       "                                                 App        Category  Rating  \\\n",
       "0     Photo Editor & Candy Camera & Grid & ScrapBook  ART_AND_DESIGN     4.1   \n",
       "1                                Coloring book moana  ART_AND_DESIGN     3.9   \n",
       "2  U Launcher Lite – FREE Live Cool Themes, Hide ...  ART_AND_DESIGN     4.7   \n",
       "3                              Sketch - Draw & Paint  ART_AND_DESIGN     4.5   \n",
       "4              Pixel Draw - Number Art Coloring Book  ART_AND_DESIGN     4.3   \n",
       "\n",
       "   Reviews     Size  Installs  Type  Price Content Rating  \\\n",
       "0      159  19000.0     10000  Free    0.0       Everyone   \n",
       "1      967  14000.0    500000  Free    0.0       Everyone   \n",
       "2    87510      8.7   5000000  Free    0.0       Everyone   \n",
       "3   215644  25000.0  50000000  Free    0.0           Teen   \n",
       "4      967      2.8    100000  Free    0.0       Everyone   \n",
       "\n",
       "                      Genres Last Updated         Current Ver   Android Ver  \\\n",
       "0               Art & Design   2018-01-07               1.0.0  4.0.3 and up   \n",
       "1  Art & Design;Pretend Play   2018-01-15               2.0.0  4.0.3 and up   \n",
       "2               Art & Design   2018-08-01               1.2.4  4.0.3 and up   \n",
       "3               Art & Design   2018-06-08  Varies with device    4.2 and up   \n",
       "4    Art & Design;Creativity   2018-06-20                 1.1    4.4 and up   \n",
       "\n",
       "   Day  Month  Year  \n",
       "0    7      1  2018  \n",
       "1   15      1  2018  \n",
       "2    1      8  2018  \n",
       "3    8      6  2018  \n",
       "4   20      6  2018  "
      ]
     },
     "execution_count": 26,
     "metadata": {},
     "output_type": "execute_result"
    }
   ],
   "source": [
    "df_clean['Day'] = df_clean['Last Updated'].dt.day\n",
    "df_clean['Month'] = df_clean['Last Updated'].dt.month\n",
    "df_clean['Year'] = df_clean['Last Updated'].dt.year\n",
    "df_clean.head()"
   ]
  },
  {
   "cell_type": "markdown",
   "id": "832d782b",
   "metadata": {
    "papermill": {
     "duration": 0.011375,
     "end_time": "2025-07-18T17:47:29.052081",
     "exception": false,
     "start_time": "2025-07-18T17:47:29.040706",
     "status": "completed"
    },
    "tags": []
   },
   "source": [
    "**EDA**\n"
   ]
  },
  {
   "cell_type": "code",
   "execution_count": 27,
   "id": "b7a83a41",
   "metadata": {
    "execution": {
     "iopub.execute_input": "2025-07-18T17:47:29.078027Z",
     "iopub.status.busy": "2025-07-18T17:47:29.077758Z",
     "iopub.status.idle": "2025-07-18T17:47:29.089676Z",
     "shell.execute_reply": "2025-07-18T17:47:29.088795Z"
    },
    "papermill": {
     "duration": 0.025932,
     "end_time": "2025-07-18T17:47:29.091159",
     "exception": false,
     "start_time": "2025-07-18T17:47:29.065227",
     "status": "completed"
    },
    "tags": []
   },
   "outputs": [
    {
     "data": {
      "text/plain": [
       "(1181, 16)"
      ]
     },
     "execution_count": 27,
     "metadata": {},
     "output_type": "execute_result"
    }
   ],
   "source": [
    "df_clean[df_clean.duplicated('App')].shape"
   ]
  },
  {
   "cell_type": "code",
   "execution_count": 28,
   "id": "93f922b4",
   "metadata": {
    "execution": {
     "iopub.execute_input": "2025-07-18T17:47:29.115910Z",
     "iopub.status.busy": "2025-07-18T17:47:29.115369Z",
     "iopub.status.idle": "2025-07-18T17:47:29.132903Z",
     "shell.execute_reply": "2025-07-18T17:47:29.131780Z"
    },
    "papermill": {
     "duration": 0.031717,
     "end_time": "2025-07-18T17:47:29.134556",
     "exception": false,
     "start_time": "2025-07-18T17:47:29.102839",
     "status": "completed"
    },
    "tags": []
   },
   "outputs": [
    {
     "name": "stdout",
     "output_type": "stream",
     "text": [
      "<class 'pandas.core.frame.DataFrame'>\n",
      "Index: 9659 entries, 0 to 10840\n",
      "Data columns (total 16 columns):\n",
      " #   Column          Non-Null Count  Dtype         \n",
      "---  ------          --------------  -----         \n",
      " 0   App             9659 non-null   object        \n",
      " 1   Category        9659 non-null   object        \n",
      " 2   Rating          8196 non-null   float64       \n",
      " 3   Reviews         9659 non-null   int64         \n",
      " 4   Size            8432 non-null   float64       \n",
      " 5   Installs        9659 non-null   int64         \n",
      " 6   Type            9658 non-null   object        \n",
      " 7   Price           9659 non-null   float64       \n",
      " 8   Content Rating  9659 non-null   object        \n",
      " 9   Genres          9659 non-null   object        \n",
      " 10  Last Updated    9659 non-null   datetime64[ns]\n",
      " 11  Current Ver     9651 non-null   object        \n",
      " 12  Android Ver     9657 non-null   object        \n",
      " 13  Day             9659 non-null   int32         \n",
      " 14  Month           9659 non-null   int32         \n",
      " 15  Year            9659 non-null   int32         \n",
      "dtypes: datetime64[ns](1), float64(3), int32(3), int64(2), object(7)\n",
      "memory usage: 1.1+ MB\n"
     ]
    }
   ],
   "source": [
    "df_clean = df_clean.drop_duplicates(subset=['App'], keep='first')\n",
    "df_clean.info()"
   ]
  },
  {
   "cell_type": "code",
   "execution_count": 29,
   "id": "4c43182c",
   "metadata": {
    "execution": {
     "iopub.execute_input": "2025-07-18T17:47:29.160398Z",
     "iopub.status.busy": "2025-07-18T17:47:29.159579Z",
     "iopub.status.idle": "2025-07-18T17:47:29.165290Z",
     "shell.execute_reply": "2025-07-18T17:47:29.164473Z"
    },
    "papermill": {
     "duration": 0.020041,
     "end_time": "2025-07-18T17:47:29.166759",
     "exception": false,
     "start_time": "2025-07-18T17:47:29.146718",
     "status": "completed"
    },
    "tags": []
   },
   "outputs": [
    {
     "data": {
      "text/plain": [
       "(9659, 16)"
      ]
     },
     "execution_count": 29,
     "metadata": {},
     "output_type": "execute_result"
    }
   ],
   "source": [
    "df_clean.shape"
   ]
  },
  {
   "cell_type": "code",
   "execution_count": 30,
   "id": "17faf490",
   "metadata": {
    "execution": {
     "iopub.execute_input": "2025-07-18T17:47:29.192605Z",
     "iopub.status.busy": "2025-07-18T17:47:29.192313Z",
     "iopub.status.idle": "2025-07-18T17:47:29.197504Z",
     "shell.execute_reply": "2025-07-18T17:47:29.196637Z"
    },
    "papermill": {
     "duration": 0.019913,
     "end_time": "2025-07-18T17:47:29.198873",
     "exception": false,
     "start_time": "2025-07-18T17:47:29.178960",
     "status": "completed"
    },
    "tags": []
   },
   "outputs": [],
   "source": [
    "numeric_features = [feature for feature in df_clean.columns if df_clean[feature].dtype != 'O']\n",
    "categorical_features = [feature for feature in df_clean.columns if df_clean[feature].dtype == 'O']\n"
   ]
  },
  {
   "cell_type": "code",
   "execution_count": 31,
   "id": "8f97d004",
   "metadata": {
    "execution": {
     "iopub.execute_input": "2025-07-18T17:47:29.223713Z",
     "iopub.status.busy": "2025-07-18T17:47:29.223432Z",
     "iopub.status.idle": "2025-07-18T17:47:29.228300Z",
     "shell.execute_reply": "2025-07-18T17:47:29.227275Z"
    },
    "papermill": {
     "duration": 0.019096,
     "end_time": "2025-07-18T17:47:29.229797",
     "exception": false,
     "start_time": "2025-07-18T17:47:29.210701",
     "status": "completed"
    },
    "tags": []
   },
   "outputs": [
    {
     "name": "stdout",
     "output_type": "stream",
     "text": [
      "['App', 'Category', 'Type', 'Content Rating', 'Genres', 'Current Ver', 'Android Ver']\n"
     ]
    }
   ],
   "source": [
    "print(categorical_features)"
   ]
  },
  {
   "cell_type": "code",
   "execution_count": 32,
   "id": "32b3a149",
   "metadata": {
    "execution": {
     "iopub.execute_input": "2025-07-18T17:47:29.255256Z",
     "iopub.status.busy": "2025-07-18T17:47:29.254546Z",
     "iopub.status.idle": "2025-07-18T17:47:32.339881Z",
     "shell.execute_reply": "2025-07-18T17:47:32.338860Z"
    },
    "papermill": {
     "duration": 3.100593,
     "end_time": "2025-07-18T17:47:32.342490",
     "exception": false,
     "start_time": "2025-07-18T17:47:29.241897",
     "status": "completed"
    },
    "tags": []
   },
   "outputs": [
    {
     "data": {
      "text/plain": [
       "<Figure size 640x480 with 0 Axes>"
      ]
     },
     "metadata": {},
     "output_type": "display_data"
    },
    {
     "data": {
      "image/png": "[encoded data removed]",
      "text/plain": [
       "<Figure size 1500x1500 with 9 Axes>"
      ]
     },
     "metadata": {},
     "output_type": "display_data"
    }
   ],
   "source": [
    "df_clean.replace([np.inf, -np.inf], np.nan, inplace=True)\n",
    "import warnings\n",
    "warnings.filterwarnings(\"ignore\")\n",
    "plt.tight_layout() \n",
    "\n",
    "\n",
    "plt.figure(figsize=(15, 15))\n",
    "for i in range(0, len(numeric_features)):\n",
    "    plt.subplot(5, 3, i+1)\n",
    "    sns.kdeplot(x=df_clean[numeric_features[i]], color=\"purple\", fill = True)\n",
    "    plt.xlabel(numeric_features[i])\n",
    "    plt.tight_layout()\n",
    "    "
   ]
  },
  {
   "cell_type": "code",
   "execution_count": 33,
   "id": "41f148c3",
   "metadata": {
    "execution": {
     "iopub.execute_input": "2025-07-18T17:47:32.373558Z",
     "iopub.status.busy": "2025-07-18T17:47:32.373220Z",
     "iopub.status.idle": "2025-07-18T17:47:32.693654Z",
     "shell.execute_reply": "2025-07-18T17:47:32.692679Z"
    },
    "papermill": {
     "duration": 0.337911,
     "end_time": "2025-07-18T17:47:32.695144",
     "exception": false,
     "start_time": "2025-07-18T17:47:32.357233",
     "status": "completed"
    },
    "tags": []
   },
   "outputs": [
    {
     "data": {
      "image/png": "[encoded data removed]",
      "text/plain": [
       "<Figure size 1500x500 with 2 Axes>"
      ]
     },
     "metadata": {},
     "output_type": "display_data"
    }
   ],
   "source": [
    "plt.figure(figsize=(15, 5))\n",
    "\n",
    "category = [\"Type\", \"Content Rating\"]\n",
    "for i in range(0, len(category)):\n",
    "    plt.subplot(1, 2, i+1)\n",
    "    sns.countplot(x=df_clean[category[i]], color=\"purple\", fill = True)\n",
    "    plt.xlabel(category[i])\n",
    "    plt.tight_layout()"
   ]
  },
  {
   "cell_type": "code",
   "execution_count": 34,
   "id": "fd33c481",
   "metadata": {
    "execution": {
     "iopub.execute_input": "2025-07-18T17:47:32.727094Z",
     "iopub.status.busy": "2025-07-18T17:47:32.726789Z",
     "iopub.status.idle": "2025-07-18T17:47:32.734573Z",
     "shell.execute_reply": "2025-07-18T17:47:32.733841Z"
    },
    "papermill": {
     "duration": 0.025285,
     "end_time": "2025-07-18T17:47:32.735913",
     "exception": false,
     "start_time": "2025-07-18T17:47:32.710628",
     "status": "completed"
    },
    "tags": []
   },
   "outputs": [
    {
     "data": {
      "text/plain": [
       "Category\n",
       "FAMILY                 1832\n",
       "GAME                    959\n",
       "TOOLS                   827\n",
       "BUSINESS                420\n",
       "MEDICAL                 395\n",
       "PERSONALIZATION         376\n",
       "PRODUCTIVITY            374\n",
       "LIFESTYLE               369\n",
       "FINANCE                 345\n",
       "SPORTS                  325\n",
       "COMMUNICATION           315\n",
       "HEALTH_AND_FITNESS      288\n",
       "PHOTOGRAPHY             281\n",
       "NEWS_AND_MAGAZINES      254\n",
       "SOCIAL                  239\n",
       "BOOKS_AND_REFERENCE     222\n",
       "TRAVEL_AND_LOCAL        219\n",
       "SHOPPING                202\n",
       "DATING                  171\n",
       "VIDEO_PLAYERS           163\n",
       "MAPS_AND_NAVIGATION     131\n",
       "EDUCATION               119\n",
       "FOOD_AND_DRINK          112\n",
       "ENTERTAINMENT           102\n",
       "AUTO_AND_VEHICLES        85\n",
       "LIBRARIES_AND_DEMO       84\n",
       "WEATHER                  79\n",
       "HOUSE_AND_HOME           74\n",
       "EVENTS                   64\n",
       "ART_AND_DESIGN           64\n",
       "PARENTING                60\n",
       "COMICS                   56\n",
       "BEAUTY                   53\n",
       "Name: count, dtype: int64"
      ]
     },
     "execution_count": 34,
     "metadata": {},
     "output_type": "execute_result"
    }
   ],
   "source": [
    "df_clean[\"Category\"].value_counts()"
   ]
  },
  {
   "cell_type": "code",
   "execution_count": 35,
   "id": "6d7bed42",
   "metadata": {
    "execution": {
     "iopub.execute_input": "2025-07-18T17:47:32.768682Z",
     "iopub.status.busy": "2025-07-18T17:47:32.768252Z",
     "iopub.status.idle": "2025-07-18T17:47:32.776932Z",
     "shell.execute_reply": "2025-07-18T17:47:32.775982Z"
    },
    "papermill": {
     "duration": 0.026916,
     "end_time": "2025-07-18T17:47:32.778413",
     "exception": false,
     "start_time": "2025-07-18T17:47:32.751497",
     "status": "completed"
    },
    "tags": []
   },
   "outputs": [
    {
     "data": {
      "text/plain": [
       "Category\n",
       "GAME                   13878924415\n",
       "COMMUNICATION          11038276251\n",
       "TOOLS                   8001771915\n",
       "PRODUCTIVITY            5793091369\n",
       "SOCIAL                  5487867902\n",
       "PHOTOGRAPHY             4649147655\n",
       "FAMILY                  4427941505\n",
       "VIDEO_PLAYERS           3926902720\n",
       "TRAVEL_AND_LOCAL        2894887146\n",
       "NEWS_AND_MAGAZINES      2369217760\n",
       "ENTERTAINMENT           2113660000\n",
       "BOOKS_AND_REFERENCE     1665969576\n",
       "PERSONALIZATION         1532494782\n",
       "SHOPPING                1400348785\n",
       "HEALTH_AND_FITNESS      1144022512\n",
       "SPORTS                  1096474498\n",
       "BUSINESS                 697164865\n",
       "LIFESTYLE                503823539\n",
       "MAPS_AND_NAVIGATION      503281890\n",
       "FINANCE                  455348734\n",
       "WEATHER                  361100520\n",
       "EDUCATION                352952000\n",
       "FOOD_AND_DRINK           211798751\n",
       "DATING                   140926107\n",
       "ART_AND_DESIGN           114338100\n",
       "HOUSE_AND_HOME            97212461\n",
       "AUTO_AND_VEHICLES         53130211\n",
       "LIBRARIES_AND_DEMO        52995910\n",
       "COMICS                    44981150\n",
       "MEDICAL                   38193177\n",
       "PARENTING                 31521110\n",
       "BEAUTY                    27197050\n",
       "EVENTS                    15973161\n",
       "Name: Installs, dtype: int64"
      ]
     },
     "execution_count": 35,
     "metadata": {},
     "output_type": "execute_result"
    }
   ],
   "source": [
    "df_clean.groupby(['Category'])['Installs'].sum().sort_values(ascending = False)"
   ]
  },
  {
   "cell_type": "code",
   "execution_count": 36,
   "id": "b8ed18c2",
   "metadata": {
    "execution": {
     "iopub.execute_input": "2025-07-18T17:47:32.810781Z",
     "iopub.status.busy": "2025-07-18T17:47:32.810433Z",
     "iopub.status.idle": "2025-07-18T17:47:32.824470Z",
     "shell.execute_reply": "2025-07-18T17:47:32.823673Z"
    },
    "papermill": {
     "duration": 0.032009,
     "end_time": "2025-07-18T17:47:32.825847",
     "exception": false,
     "start_time": "2025-07-18T17:47:32.793838",
     "status": "completed"
    },
    "tags": []
   },
   "outputs": [
    {
     "data": {
      "text/html": [
       "<div>\n",
       "<style scoped>\n",
       "    .dataframe tbody tr th:only-of-type {\n",
       "        vertical-align: middle;\n",
       "    }\n",
       "\n",
       "    .dataframe tbody tr th {\n",
       "        vertical-align: top;\n",
       "    }\n",
       "\n",
       "    .dataframe thead th {\n",
       "        text-align: right;\n",
       "    }\n",
       "</style>\n",
       "<table border=\"1\" class=\"dataframe\">\n",
       "  <thead>\n",
       "    <tr style=\"text-align: right;\">\n",
       "      <th></th>\n",
       "      <th>Installs</th>\n",
       "    </tr>\n",
       "    <tr>\n",
       "      <th>Category</th>\n",
       "      <th></th>\n",
       "    </tr>\n",
       "  </thead>\n",
       "  <tbody>\n",
       "    <tr>\n",
       "      <th>GAME</th>\n",
       "      <td>13.878924</td>\n",
       "    </tr>\n",
       "    <tr>\n",
       "      <th>COMMUNICATION</th>\n",
       "      <td>11.038276</td>\n",
       "    </tr>\n",
       "    <tr>\n",
       "      <th>TOOLS</th>\n",
       "      <td>8.001772</td>\n",
       "    </tr>\n",
       "    <tr>\n",
       "      <th>PRODUCTIVITY</th>\n",
       "      <td>5.793091</td>\n",
       "    </tr>\n",
       "    <tr>\n",
       "      <th>SOCIAL</th>\n",
       "      <td>5.487868</td>\n",
       "    </tr>\n",
       "    <tr>\n",
       "      <th>PHOTOGRAPHY</th>\n",
       "      <td>4.649148</td>\n",
       "    </tr>\n",
       "    <tr>\n",
       "      <th>FAMILY</th>\n",
       "      <td>4.427942</td>\n",
       "    </tr>\n",
       "    <tr>\n",
       "      <th>VIDEO_PLAYERS</th>\n",
       "      <td>3.926903</td>\n",
       "    </tr>\n",
       "    <tr>\n",
       "      <th>TRAVEL_AND_LOCAL</th>\n",
       "      <td>2.894887</td>\n",
       "    </tr>\n",
       "    <tr>\n",
       "      <th>NEWS_AND_MAGAZINES</th>\n",
       "      <td>2.369218</td>\n",
       "    </tr>\n",
       "    <tr>\n",
       "      <th>ENTERTAINMENT</th>\n",
       "      <td>2.113660</td>\n",
       "    </tr>\n",
       "    <tr>\n",
       "      <th>BOOKS_AND_REFERENCE</th>\n",
       "      <td>1.665970</td>\n",
       "    </tr>\n",
       "    <tr>\n",
       "      <th>PERSONALIZATION</th>\n",
       "      <td>1.532495</td>\n",
       "    </tr>\n",
       "    <tr>\n",
       "      <th>SHOPPING</th>\n",
       "      <td>1.400349</td>\n",
       "    </tr>\n",
       "    <tr>\n",
       "      <th>HEALTH_AND_FITNESS</th>\n",
       "      <td>1.144023</td>\n",
       "    </tr>\n",
       "    <tr>\n",
       "      <th>SPORTS</th>\n",
       "      <td>1.096474</td>\n",
       "    </tr>\n",
       "    <tr>\n",
       "      <th>BUSINESS</th>\n",
       "      <td>0.697165</td>\n",
       "    </tr>\n",
       "    <tr>\n",
       "      <th>LIFESTYLE</th>\n",
       "      <td>0.503824</td>\n",
       "    </tr>\n",
       "    <tr>\n",
       "      <th>MAPS_AND_NAVIGATION</th>\n",
       "      <td>0.503282</td>\n",
       "    </tr>\n",
       "    <tr>\n",
       "      <th>FINANCE</th>\n",
       "      <td>0.455349</td>\n",
       "    </tr>\n",
       "    <tr>\n",
       "      <th>WEATHER</th>\n",
       "      <td>0.361101</td>\n",
       "    </tr>\n",
       "    <tr>\n",
       "      <th>EDUCATION</th>\n",
       "      <td>0.352952</td>\n",
       "    </tr>\n",
       "    <tr>\n",
       "      <th>FOOD_AND_DRINK</th>\n",
       "      <td>0.211799</td>\n",
       "    </tr>\n",
       "    <tr>\n",
       "      <th>DATING</th>\n",
       "      <td>0.140926</td>\n",
       "    </tr>\n",
       "    <tr>\n",
       "      <th>ART_AND_DESIGN</th>\n",
       "      <td>0.114338</td>\n",
       "    </tr>\n",
       "    <tr>\n",
       "      <th>HOUSE_AND_HOME</th>\n",
       "      <td>0.097212</td>\n",
       "    </tr>\n",
       "    <tr>\n",
       "      <th>AUTO_AND_VEHICLES</th>\n",
       "      <td>0.053130</td>\n",
       "    </tr>\n",
       "    <tr>\n",
       "      <th>LIBRARIES_AND_DEMO</th>\n",
       "      <td>0.052996</td>\n",
       "    </tr>\n",
       "    <tr>\n",
       "      <th>COMICS</th>\n",
       "      <td>0.044981</td>\n",
       "    </tr>\n",
       "    <tr>\n",
       "      <th>MEDICAL</th>\n",
       "      <td>0.038193</td>\n",
       "    </tr>\n",
       "    <tr>\n",
       "      <th>PARENTING</th>\n",
       "      <td>0.031521</td>\n",
       "    </tr>\n",
       "    <tr>\n",
       "      <th>BEAUTY</th>\n",
       "      <td>0.027197</td>\n",
       "    </tr>\n",
       "    <tr>\n",
       "      <th>EVENTS</th>\n",
       "      <td>0.015973</td>\n",
       "    </tr>\n",
       "  </tbody>\n",
       "</table>\n",
       "</div>"
      ],
      "text/plain": [
       "                      Installs\n",
       "Category                      \n",
       "GAME                 13.878924\n",
       "COMMUNICATION        11.038276\n",
       "TOOLS                 8.001772\n",
       "PRODUCTIVITY          5.793091\n",
       "SOCIAL                5.487868\n",
       "PHOTOGRAPHY           4.649148\n",
       "FAMILY                4.427942\n",
       "VIDEO_PLAYERS         3.926903\n",
       "TRAVEL_AND_LOCAL      2.894887\n",
       "NEWS_AND_MAGAZINES    2.369218\n",
       "ENTERTAINMENT         2.113660\n",
       "BOOKS_AND_REFERENCE   1.665970\n",
       "PERSONALIZATION       1.532495\n",
       "SHOPPING              1.400349\n",
       "HEALTH_AND_FITNESS    1.144023\n",
       "SPORTS                1.096474\n",
       "BUSINESS              0.697165\n",
       "LIFESTYLE             0.503824\n",
       "MAPS_AND_NAVIGATION   0.503282\n",
       "FINANCE               0.455349\n",
       "WEATHER               0.361101\n",
       "EDUCATION             0.352952\n",
       "FOOD_AND_DRINK        0.211799\n",
       "DATING                0.140926\n",
       "ART_AND_DESIGN        0.114338\n",
       "HOUSE_AND_HOME        0.097212\n",
       "AUTO_AND_VEHICLES     0.053130\n",
       "LIBRARIES_AND_DEMO    0.052996\n",
       "COMICS                0.044981\n",
       "MEDICAL               0.038193\n",
       "PARENTING             0.031521\n",
       "BEAUTY                0.027197\n",
       "EVENTS                0.015973"
      ]
     },
     "execution_count": 36,
     "metadata": {},
     "output_type": "execute_result"
    }
   ],
   "source": [
    "df_cat_installs = df_clean.groupby(\"Category\")[[\"Installs\"]].sum().sort_values(\"Installs\", ascending=False)\n",
    "\n",
    "df_cat_installs['Installs'] = df_cat_installs['Installs']/1000000000\n",
    "df_cat_installs"
   ]
  },
  {
   "cell_type": "code",
   "execution_count": 37,
   "id": "1c4fcc52",
   "metadata": {
    "execution": {
     "iopub.execute_input": "2025-07-18T17:47:32.859580Z",
     "iopub.status.busy": "2025-07-18T17:47:32.859303Z",
     "iopub.status.idle": "2025-07-18T17:47:33.448363Z",
     "shell.execute_reply": "2025-07-18T17:47:33.447423Z"
    },
    "papermill": {
     "duration": 0.608883,
     "end_time": "2025-07-18T17:47:33.450526",
     "exception": false,
     "start_time": "2025-07-18T17:47:32.841643",
     "status": "completed"
    },
    "tags": []
   },
   "outputs": [
    {
     "data": {
      "image/png": "[encoded data removed]",
      "text/plain": [
       "<Figure size 1000x1500 with 1 Axes>"
      ]
     },
     "metadata": {},
     "output_type": "display_data"
    }
   ],
   "source": [
    "#top 10 categories by install\n",
    "df2 = df_clean.groupby(\"Category\")[[\"Installs\"]].sum().sort_values(\"Installs\", ascending=False)\n",
    "df2 = df2.reset_index()\n",
    "\n",
    "plt.figure(figsize=(10, 15))\n",
    "sns.barplot(x=\"Installs\", y=\"Category\", data=df2, palette=\"magma\")\n",
    "plt.title(\"Total Installs per Category\", fontsize=14)\n",
    "plt.xlabel(\"Installs (in billions)\", fontsize=12)\n",
    "plt.ylabel(\"Category\", fontsize=12)\n",
    "plt.tight_layout()\n",
    "plt.show()"
   ]
  },
  {
   "cell_type": "code",
   "execution_count": 38,
   "id": "2f4c1398",
   "metadata": {
    "execution": {
     "iopub.execute_input": "2025-07-18T17:47:33.487860Z",
     "iopub.status.busy": "2025-07-18T17:47:33.487057Z",
     "iopub.status.idle": "2025-07-18T17:47:33.491120Z",
     "shell.execute_reply": "2025-07-18T17:47:33.490296Z"
    },
    "papermill": {
     "duration": 0.023819,
     "end_time": "2025-07-18T17:47:33.492535",
     "exception": false,
     "start_time": "2025-07-18T17:47:33.468716",
     "status": "completed"
    },
    "tags": []
   },
   "outputs": [],
   "source": [
    "# top 5 app"
   ]
  },
  {
   "cell_type": "code",
   "execution_count": 39,
   "id": "c5a400b2",
   "metadata": {
    "execution": {
     "iopub.execute_input": "2025-07-18T17:47:33.528161Z",
     "iopub.status.busy": "2025-07-18T17:47:33.527875Z",
     "iopub.status.idle": "2025-07-18T17:47:33.548349Z",
     "shell.execute_reply": "2025-07-18T17:47:33.547627Z"
    },
    "papermill": {
     "duration": 0.040373,
     "end_time": "2025-07-18T17:47:33.549962",
     "exception": false,
     "start_time": "2025-07-18T17:47:33.509589",
     "status": "completed"
    },
    "tags": []
   },
   "outputs": [],
   "source": [
    "apps = ['GAME', 'COMMUNICATION', 'TOOLS', 'PRODUCTIVITY', 'SOCIAL']\n",
    "\n",
    "df_app_category = df_clean.groupby(['Category', 'App'])['Installs'].sum().reset_index()\n",
    "df_app_category = df_app_category.sort_values(\"Installs\", ascending = False)"
   ]
  },
  {
   "cell_type": "code",
   "execution_count": 40,
   "id": "f7789ecb",
   "metadata": {
    "execution": {
     "iopub.execute_input": "2025-07-18T17:47:33.586081Z",
     "iopub.status.busy": "2025-07-18T17:47:33.585781Z",
     "iopub.status.idle": "2025-07-18T17:47:33.733794Z",
     "shell.execute_reply": "2025-07-18T17:47:33.732923Z"
    },
    "papermill": {
     "duration": 0.168086,
     "end_time": "2025-07-18T17:47:33.735331",
     "exception": false,
     "start_time": "2025-07-18T17:47:33.567245",
     "status": "completed"
    },
    "tags": []
   },
   "outputs": [
    {
     "data": {
      "image/png": "[encoded data removed]",
      "text/plain": [
       "<Figure size 640x480 with 1 Axes>"
      ]
     },
     "metadata": {},
     "output_type": "display_data"
    }
   ],
   "source": [
    "apps = ['GAME', 'COMMUNICATION', 'TOOLS', 'PRODUCTIVITY', 'SOCIAL']\n",
    "for i, app in enumerate(apps):\n",
    "    df2 = df_app_category[df_app_category.Category == app]\n",
    "    df2 = df2.head(5)\n",
    "\n",
    "plt.subplot(3, 2,i+1)\n",
    "sns.barplot(data=df2, x ='Installs', y='App')\n",
    "plt.title(app, size=20)\n",
    "plt.tight_layout()\n",
    "plt.show()"
   ]
  },
  {
   "cell_type": "code",
   "execution_count": 41,
   "id": "345dcf70",
   "metadata": {
    "execution": {
     "iopub.execute_input": "2025-07-18T17:47:33.771913Z",
     "iopub.status.busy": "2025-07-18T17:47:33.771638Z",
     "iopub.status.idle": "2025-07-18T17:47:33.775222Z",
     "shell.execute_reply": "2025-07-18T17:47:33.774581Z"
    },
    "papermill": {
     "duration": 0.023777,
     "end_time": "2025-07-18T17:47:33.776723",
     "exception": false,
     "start_time": "2025-07-18T17:47:33.752946",
     "status": "completed"
    },
    "tags": []
   },
   "outputs": [],
   "source": [
    "# 5 rating apps"
   ]
  },
  {
   "cell_type": "code",
   "execution_count": 42,
   "id": "8bcaf99a",
   "metadata": {
    "execution": {
     "iopub.execute_input": "2025-07-18T17:47:33.814531Z",
     "iopub.status.busy": "2025-07-18T17:47:33.813675Z",
     "iopub.status.idle": "2025-07-18T17:47:33.836510Z",
     "shell.execute_reply": "2025-07-18T17:47:33.835555Z"
    },
    "papermill": {
     "duration": 0.043222,
     "end_time": "2025-07-18T17:47:33.838090",
     "exception": false,
     "start_time": "2025-07-18T17:47:33.794868",
     "status": "completed"
    },
    "tags": []
   },
   "outputs": [],
   "source": [
    "rating_df = df_clean.groupby(['Category', 'Installs', 'App'])['Rating'].sum().reset_index()\n",
    "top_rated_apps = rating_df[rating_df['Rating'] == 5.0]\n"
   ]
  },
  {
   "cell_type": "code",
   "execution_count": 43,
   "id": "4ea9a206",
   "metadata": {
    "execution": {
     "iopub.execute_input": "2025-07-18T17:47:33.876059Z",
     "iopub.status.busy": "2025-07-18T17:47:33.875318Z",
     "iopub.status.idle": "2025-07-18T17:47:33.880714Z",
     "shell.execute_reply": "2025-07-18T17:47:33.879868Z"
    },
    "papermill": {
     "duration": 0.026205,
     "end_time": "2025-07-18T17:47:33.882167",
     "exception": false,
     "start_time": "2025-07-18T17:47:33.855962",
     "status": "completed"
    },
    "tags": []
   },
   "outputs": [
    {
     "data": {
      "text/plain": [
       "(271, 4)"
      ]
     },
     "execution_count": 43,
     "metadata": {},
     "output_type": "execute_result"
    }
   ],
   "source": [
    "top_rated_apps.shape"
   ]
  },
  {
   "cell_type": "code",
   "execution_count": 44,
   "id": "b27054c3",
   "metadata": {
    "execution": {
     "iopub.execute_input": "2025-07-18T17:47:33.920697Z",
     "iopub.status.busy": "2025-07-18T17:47:33.919748Z",
     "iopub.status.idle": "2025-07-18T17:47:33.933297Z",
     "shell.execute_reply": "2025-07-18T17:47:33.932177Z"
    },
    "papermill": {
     "duration": 0.034775,
     "end_time": "2025-07-18T17:47:33.934799",
     "exception": false,
     "start_time": "2025-07-18T17:47:33.900024",
     "status": "completed"
    },
    "tags": []
   },
   "outputs": [
    {
     "name": "stdout",
     "output_type": "stream",
     "text": [
      "<class 'pandas.core.frame.DataFrame'>\n",
      "Index: 9659 entries, 0 to 10840\n",
      "Data columns (total 16 columns):\n",
      " #   Column          Non-Null Count  Dtype         \n",
      "---  ------          --------------  -----         \n",
      " 0   App             9659 non-null   object        \n",
      " 1   Category        9659 non-null   object        \n",
      " 2   Rating          8196 non-null   float64       \n",
      " 3   Reviews         9659 non-null   int64         \n",
      " 4   Size            8432 non-null   float64       \n",
      " 5   Installs        9659 non-null   int64         \n",
      " 6   Type            9658 non-null   object        \n",
      " 7   Price           9659 non-null   float64       \n",
      " 8   Content Rating  9659 non-null   object        \n",
      " 9   Genres          9659 non-null   object        \n",
      " 10  Last Updated    9659 non-null   datetime64[ns]\n",
      " 11  Current Ver     9651 non-null   object        \n",
      " 12  Android Ver     9657 non-null   object        \n",
      " 13  Day             9659 non-null   int32         \n",
      " 14  Month           9659 non-null   int32         \n",
      " 15  Year            9659 non-null   int32         \n",
      "dtypes: datetime64[ns](1), float64(3), int32(3), int64(2), object(7)\n",
      "memory usage: 1.1+ MB\n"
     ]
    }
   ],
   "source": [
    "df_clean.info()"
   ]
  },
  {
   "cell_type": "code",
   "execution_count": 45,
   "id": "5609ac3d",
   "metadata": {
    "execution": {
     "iopub.execute_input": "2025-07-18T17:47:33.971675Z",
     "iopub.status.busy": "2025-07-18T17:47:33.970905Z",
     "iopub.status.idle": "2025-07-18T17:47:33.977473Z",
     "shell.execute_reply": "2025-07-18T17:47:33.976641Z"
    },
    "papermill": {
     "duration": 0.026427,
     "end_time": "2025-07-18T17:47:33.978828",
     "exception": false,
     "start_time": "2025-07-18T17:47:33.952401",
     "status": "completed"
    },
    "tags": []
   },
   "outputs": [
    {
     "data": {
      "text/plain": [
       "0              4.0.3 and up\n",
       "1              4.0.3 and up\n",
       "2              4.0.3 and up\n",
       "3                4.2 and up\n",
       "4                4.4 and up\n",
       "                ...        \n",
       "10836            4.1 and up\n",
       "10837            4.1 and up\n",
       "10838            2.2 and up\n",
       "10839    Varies with device\n",
       "10840    Varies with device\n",
       "Name: Android Ver, Length: 9659, dtype: object"
      ]
     },
     "execution_count": 45,
     "metadata": {},
     "output_type": "execute_result"
    }
   ],
   "source": [
    "df_clean['Android Ver']"
   ]
  },
  {
   "cell_type": "code",
   "execution_count": 46,
   "id": "c252ac5a",
   "metadata": {
    "execution": {
     "iopub.execute_input": "2025-07-18T17:47:34.015330Z",
     "iopub.status.busy": "2025-07-18T17:47:34.014996Z",
     "iopub.status.idle": "2025-07-18T17:47:34.028601Z",
     "shell.execute_reply": "2025-07-18T17:47:34.027819Z"
    },
    "papermill": {
     "duration": 0.033385,
     "end_time": "2025-07-18T17:47:34.029864",
     "exception": false,
     "start_time": "2025-07-18T17:47:33.996479",
     "status": "completed"
    },
    "tags": []
   },
   "outputs": [
    {
     "data": {
      "text/plain": [
       "0                    4.0.3 \n",
       "1                    4.0.3 \n",
       "2                    4.0.3 \n",
       "3                      4.2 \n",
       "4                      4.4 \n",
       "                ...        \n",
       "10836                  4.1 \n",
       "10837                  4.1 \n",
       "10838                  2.2 \n",
       "10839    Varies with device\n",
       "10840    Varies with device\n",
       "Name: Android Ver, Length: 9659, dtype: object"
      ]
     },
     "execution_count": 46,
     "metadata": {},
     "output_type": "execute_result"
    }
   ],
   "source": [
    "df_clean['Android Ver'] = df_clean['Android Ver'].replace('and up', '', regex=True)\n",
    "df_clean['Android Ver']"
   ]
  },
  {
   "cell_type": "code",
   "execution_count": 47,
   "id": "f540de47",
   "metadata": {
    "execution": {
     "iopub.execute_input": "2025-07-18T17:47:34.067020Z",
     "iopub.status.busy": "2025-07-18T17:47:34.066270Z",
     "iopub.status.idle": "2025-07-18T17:47:34.081434Z",
     "shell.execute_reply": "2025-07-18T17:47:34.080604Z"
    },
    "papermill": {
     "duration": 0.034994,
     "end_time": "2025-07-18T17:47:34.082762",
     "exception": false,
     "start_time": "2025-07-18T17:47:34.047768",
     "status": "completed"
    },
    "tags": []
   },
   "outputs": [
    {
     "data": {
      "text/plain": [
       "array(['4.0.3 ', '4.2 ', '4.4 ', '2.3 ', '3.0 ', '4.1 ', '4.0 ', '2.3.3 ',\n",
       "       nan, '2.2 ', '5.0 ', '6.0 ', '1.6 ', '1.5 ', '2.1 ', '7.0 ',\n",
       "       '5.1 ', '4.3 ', '4.0.3 - 7.1.1', '2.0 ', '3.2 ', '4.4W ', '7.1 ',\n",
       "       '7.0 - 7.1.1', '8.0 ', '5.0 - 8.0', '3.1 ', '2.0.1 ',\n",
       "       '4.1 - 7.1.1', '5.0 - 6.0', '1.0 ', '2.2 - 7.1.1', '5.0 - 7.1.1'],\n",
       "      dtype=object)"
      ]
     },
     "execution_count": 47,
     "metadata": {},
     "output_type": "execute_result"
    }
   ],
   "source": [
    "df_clean['Android Ver'] = df_clean['Android Ver'].replace('Varies with device', '', regex=True).replace(\"W\", ' regex=True').replace('', np.nan)\n",
    "df_clean['Android Ver'].unique()"
   ]
  },
  {
   "cell_type": "code",
   "execution_count": 48,
   "id": "2e77ce96",
   "metadata": {
    "execution": {
     "iopub.execute_input": "2025-07-18T17:47:34.120098Z",
     "iopub.status.busy": "2025-07-18T17:47:34.119781Z",
     "iopub.status.idle": "2025-07-18T17:47:34.127740Z",
     "shell.execute_reply": "2025-07-18T17:47:34.126955Z"
    },
    "papermill": {
     "duration": 0.028473,
     "end_time": "2025-07-18T17:47:34.129064",
     "exception": false,
     "start_time": "2025-07-18T17:47:34.100591",
     "status": "completed"
    },
    "tags": []
   },
   "outputs": [
    {
     "data": {
      "text/plain": [
       "Android Ver\n",
       "4.1              2202\n",
       "4.0.3            1395\n",
       "4.0              1285\n",
       "4.4               818\n",
       "2.3               616\n",
       "5.0               512\n",
       "4.2               372\n",
       "2.3.3             273\n",
       "2.2               239\n",
       "3.0               231\n",
       "4.3               221\n",
       "2.1               133\n",
       "1.6               116\n",
       "6.0                54\n",
       "7.0                42\n",
       "3.2                36\n",
       "2.0                32\n",
       "5.1                22\n",
       "1.5                20\n",
       "4.4W               11\n",
       "3.1                10\n",
       "2.0.1               7\n",
       "8.0                 6\n",
       "7.1                 3\n",
       "5.0 - 8.0           2\n",
       "4.0.3 - 7.1.1       2\n",
       "1.0                 2\n",
       "7.0 - 7.1.1         1\n",
       "4.1 - 7.1.1         1\n",
       "5.0 - 6.0           1\n",
       "2.2 - 7.1.1         1\n",
       "5.0 - 7.1.1         1\n",
       "Name: count, dtype: int64"
      ]
     },
     "execution_count": 48,
     "metadata": {},
     "output_type": "execute_result"
    }
   ],
   "source": [
    "df_clean['Android Ver'].value_counts()"
   ]
  },
  {
   "cell_type": "code",
   "execution_count": 49,
   "id": "ed0490ec",
   "metadata": {
    "execution": {
     "iopub.execute_input": "2025-07-18T17:47:34.167351Z",
     "iopub.status.busy": "2025-07-18T17:47:34.167014Z",
     "iopub.status.idle": "2025-07-18T17:47:34.187388Z",
     "shell.execute_reply": "2025-07-18T17:47:34.186527Z"
    },
    "papermill": {
     "duration": 0.040752,
     "end_time": "2025-07-18T17:47:34.188977",
     "exception": false,
     "start_time": "2025-07-18T17:47:34.148225",
     "status": "completed"
    },
    "tags": []
   },
   "outputs": [
    {
     "data": {
      "text/html": [
       "<div>\n",
       "<style scoped>\n",
       "    .dataframe tbody tr th:only-of-type {\n",
       "        vertical-align: middle;\n",
       "    }\n",
       "\n",
       "    .dataframe tbody tr th {\n",
       "        vertical-align: top;\n",
       "    }\n",
       "\n",
       "    .dataframe thead th {\n",
       "        text-align: right;\n",
       "    }\n",
       "</style>\n",
       "<table border=\"1\" class=\"dataframe\">\n",
       "  <thead>\n",
       "    <tr style=\"text-align: right;\">\n",
       "      <th></th>\n",
       "      <th>App</th>\n",
       "      <th>Category</th>\n",
       "      <th>Rating</th>\n",
       "      <th>Reviews</th>\n",
       "      <th>Size</th>\n",
       "      <th>Installs</th>\n",
       "      <th>Type</th>\n",
       "      <th>Price</th>\n",
       "      <th>Content Rating</th>\n",
       "      <th>Genres</th>\n",
       "      <th>Last Updated</th>\n",
       "      <th>Current Ver</th>\n",
       "      <th>Android Ver</th>\n",
       "      <th>Day</th>\n",
       "      <th>Month</th>\n",
       "      <th>Year</th>\n",
       "    </tr>\n",
       "  </thead>\n",
       "  <tbody>\n",
       "    <tr>\n",
       "      <th>350</th>\n",
       "      <td>Web Browser &amp; Explorer</td>\n",
       "      <td>COMMUNICATION</td>\n",
       "      <td>4.0</td>\n",
       "      <td>36901</td>\n",
       "      <td>6.6</td>\n",
       "      <td>5000000</td>\n",
       "      <td>Free</td>\n",
       "      <td>0.0</td>\n",
       "      <td>Everyone</td>\n",
       "      <td>Communication</td>\n",
       "      <td>2018-07-04</td>\n",
       "      <td>11.8.6</td>\n",
       "      <td>4.0.3 - 7.1.1</td>\n",
       "      <td>4</td>\n",
       "      <td>7</td>\n",
       "      <td>2018</td>\n",
       "    </tr>\n",
       "    <tr>\n",
       "      <th>352</th>\n",
       "      <td>Browser 4G</td>\n",
       "      <td>COMMUNICATION</td>\n",
       "      <td>4.3</td>\n",
       "      <td>192948</td>\n",
       "      <td>6.6</td>\n",
       "      <td>10000000</td>\n",
       "      <td>Free</td>\n",
       "      <td>0.0</td>\n",
       "      <td>Everyone</td>\n",
       "      <td>Communication</td>\n",
       "      <td>2018-06-19</td>\n",
       "      <td>24.6.6</td>\n",
       "      <td>4.0.3 - 7.1.1</td>\n",
       "      <td>19</td>\n",
       "      <td>6</td>\n",
       "      <td>2018</td>\n",
       "    </tr>\n",
       "    <tr>\n",
       "      <th>1572</th>\n",
       "      <td>ZenUI Safeguard</td>\n",
       "      <td>LIFESTYLE</td>\n",
       "      <td>4.5</td>\n",
       "      <td>100</td>\n",
       "      <td>7.1</td>\n",
       "      <td>1000000</td>\n",
       "      <td>Free</td>\n",
       "      <td>0.0</td>\n",
       "      <td>Everyone</td>\n",
       "      <td>Lifestyle</td>\n",
       "      <td>2018-05-09</td>\n",
       "      <td>1.0.0.21_180410</td>\n",
       "      <td>7.0 - 7.1.1</td>\n",
       "      <td>9</td>\n",
       "      <td>5</td>\n",
       "      <td>2018</td>\n",
       "    </tr>\n",
       "    <tr>\n",
       "      <th>2841</th>\n",
       "      <td>Photo Collage - Layout Editor</td>\n",
       "      <td>PHOTOGRAPHY</td>\n",
       "      <td>4.5</td>\n",
       "      <td>285788</td>\n",
       "      <td>46000.0</td>\n",
       "      <td>10000000</td>\n",
       "      <td>Free</td>\n",
       "      <td>0.0</td>\n",
       "      <td>Everyone</td>\n",
       "      <td>Photography</td>\n",
       "      <td>2017-12-04</td>\n",
       "      <td>1.8.0.170824_9</td>\n",
       "      <td>5.0 - 8.0</td>\n",
       "      <td>4</td>\n",
       "      <td>12</td>\n",
       "      <td>2017</td>\n",
       "    </tr>\n",
       "    <tr>\n",
       "      <th>3474</th>\n",
       "      <td>ASUS Quick Memo</td>\n",
       "      <td>PRODUCTIVITY</td>\n",
       "      <td>4.5</td>\n",
       "      <td>23089</td>\n",
       "      <td>1.6</td>\n",
       "      <td>10000000</td>\n",
       "      <td>Free</td>\n",
       "      <td>0.0</td>\n",
       "      <td>Everyone</td>\n",
       "      <td>Productivity</td>\n",
       "      <td>2018-04-11</td>\n",
       "      <td>1.10.0.33_180403</td>\n",
       "      <td>5.0 - 8.0</td>\n",
       "      <td>11</td>\n",
       "      <td>4</td>\n",
       "      <td>2018</td>\n",
       "    </tr>\n",
       "    <tr>\n",
       "      <th>4151</th>\n",
       "      <td>Google Now Launcher</td>\n",
       "      <td>TOOLS</td>\n",
       "      <td>4.2</td>\n",
       "      <td>857215</td>\n",
       "      <td>7.9</td>\n",
       "      <td>100000000</td>\n",
       "      <td>Free</td>\n",
       "      <td>0.0</td>\n",
       "      <td>Everyone</td>\n",
       "      <td>Tools</td>\n",
       "      <td>2017-12-07</td>\n",
       "      <td>1.4.large</td>\n",
       "      <td>4.1 - 7.1.1</td>\n",
       "      <td>7</td>\n",
       "      <td>12</td>\n",
       "      <td>2017</td>\n",
       "    </tr>\n",
       "    <tr>\n",
       "      <th>7571</th>\n",
       "      <td>My Style CM 13 Theme</td>\n",
       "      <td>PERSONALIZATION</td>\n",
       "      <td>4.5</td>\n",
       "      <td>314</td>\n",
       "      <td>11000.0</td>\n",
       "      <td>10000</td>\n",
       "      <td>Free</td>\n",
       "      <td>0.0</td>\n",
       "      <td>Everyone</td>\n",
       "      <td>Personalization</td>\n",
       "      <td>2016-09-08</td>\n",
       "      <td>1.9</td>\n",
       "      <td>5.0 - 6.0</td>\n",
       "      <td>8</td>\n",
       "      <td>9</td>\n",
       "      <td>2016</td>\n",
       "    </tr>\n",
       "    <tr>\n",
       "      <th>9310</th>\n",
       "      <td>EF Jumper</td>\n",
       "      <td>GAME</td>\n",
       "      <td>NaN</td>\n",
       "      <td>4</td>\n",
       "      <td>5.1</td>\n",
       "      <td>100</td>\n",
       "      <td>Free</td>\n",
       "      <td>0.0</td>\n",
       "      <td>Everyone</td>\n",
       "      <td>Arcade</td>\n",
       "      <td>2017-07-13</td>\n",
       "      <td>Build 12</td>\n",
       "      <td>2.2 - 7.1.1</td>\n",
       "      <td>13</td>\n",
       "      <td>7</td>\n",
       "      <td>2017</td>\n",
       "    </tr>\n",
       "    <tr>\n",
       "      <th>10094</th>\n",
       "      <td>EY Catalyst Reader</td>\n",
       "      <td>BUSINESS</td>\n",
       "      <td>NaN</td>\n",
       "      <td>1</td>\n",
       "      <td>8.4</td>\n",
       "      <td>5</td>\n",
       "      <td>Free</td>\n",
       "      <td>0.0</td>\n",
       "      <td>Everyone</td>\n",
       "      <td>Business</td>\n",
       "      <td>2018-04-10</td>\n",
       "      <td>1.2.1</td>\n",
       "      <td>5.0 - 7.1.1</td>\n",
       "      <td>10</td>\n",
       "      <td>4</td>\n",
       "      <td>2018</td>\n",
       "    </tr>\n",
       "  </tbody>\n",
       "</table>\n",
       "</div>"
      ],
      "text/plain": [
       "                                 App         Category  Rating  Reviews  \\\n",
       "350           Web Browser & Explorer    COMMUNICATION     4.0    36901   \n",
       "352                       Browser 4G    COMMUNICATION     4.3   192948   \n",
       "1572                 ZenUI Safeguard        LIFESTYLE     4.5      100   \n",
       "2841   Photo Collage - Layout Editor      PHOTOGRAPHY     4.5   285788   \n",
       "3474                 ASUS Quick Memo     PRODUCTIVITY     4.5    23089   \n",
       "4151             Google Now Launcher            TOOLS     4.2   857215   \n",
       "7571            My Style CM 13 Theme  PERSONALIZATION     4.5      314   \n",
       "9310                       EF Jumper             GAME     NaN        4   \n",
       "10094             EY Catalyst Reader         BUSINESS     NaN        1   \n",
       "\n",
       "          Size   Installs  Type  Price Content Rating           Genres  \\\n",
       "350        6.6    5000000  Free    0.0       Everyone    Communication   \n",
       "352        6.6   10000000  Free    0.0       Everyone    Communication   \n",
       "1572       7.1    1000000  Free    0.0       Everyone        Lifestyle   \n",
       "2841   46000.0   10000000  Free    0.0       Everyone      Photography   \n",
       "3474       1.6   10000000  Free    0.0       Everyone     Productivity   \n",
       "4151       7.9  100000000  Free    0.0       Everyone            Tools   \n",
       "7571   11000.0      10000  Free    0.0       Everyone  Personalization   \n",
       "9310       5.1        100  Free    0.0       Everyone           Arcade   \n",
       "10094      8.4          5  Free    0.0       Everyone         Business   \n",
       "\n",
       "      Last Updated       Current Ver    Android Ver  Day  Month  Year  \n",
       "350     2018-07-04            11.8.6  4.0.3 - 7.1.1    4      7  2018  \n",
       "352     2018-06-19            24.6.6  4.0.3 - 7.1.1   19      6  2018  \n",
       "1572    2018-05-09   1.0.0.21_180410    7.0 - 7.1.1    9      5  2018  \n",
       "2841    2017-12-04    1.8.0.170824_9      5.0 - 8.0    4     12  2017  \n",
       "3474    2018-04-11  1.10.0.33_180403      5.0 - 8.0   11      4  2018  \n",
       "4151    2017-12-07         1.4.large    4.1 - 7.1.1    7     12  2017  \n",
       "7571    2016-09-08               1.9      5.0 - 6.0    8      9  2016  \n",
       "9310    2017-07-13          Build 12    2.2 - 7.1.1   13      7  2017  \n",
       "10094   2018-04-10             1.2.1    5.0 - 7.1.1   10      4  2018  "
      ]
     },
     "execution_count": 49,
     "metadata": {},
     "output_type": "execute_result"
    }
   ],
   "source": [
    "df_clean[df_clean['Android Ver'].str.contains('-') == True]"
   ]
  },
  {
   "cell_type": "code",
   "execution_count": 50,
   "id": "c19c7c34",
   "metadata": {
    "execution": {
     "iopub.execute_input": "2025-07-18T17:47:34.227627Z",
     "iopub.status.busy": "2025-07-18T17:47:34.227323Z",
     "iopub.status.idle": "2025-07-18T17:47:34.241516Z",
     "shell.execute_reply": "2025-07-18T17:47:34.240557Z"
    },
    "papermill": {
     "duration": 0.035062,
     "end_time": "2025-07-18T17:47:34.242876",
     "exception": false,
     "start_time": "2025-07-18T17:47:34.207814",
     "status": "completed"
    },
    "tags": []
   },
   "outputs": [
    {
     "data": {
      "text/plain": [
       "Android Ver\n",
       "4.1       2202\n",
       "4.0.3     1395\n",
       "4.0       1285\n",
       "4.4        818\n",
       "2.3        616\n",
       "5.0        512\n",
       "4.2        372\n",
       "2.3.3      273\n",
       "2.2        239\n",
       "3.0        231\n",
       "4.3        221\n",
       "2.1        133\n",
       "1.6        116\n",
       "6.0         54\n",
       "7.0         42\n",
       "3.2         36\n",
       "2.0         32\n",
       "5.1         22\n",
       "1.5         20\n",
       "4.4W        11\n",
       "3.1         10\n",
       "2.0.1        7\n",
       "8.0          6\n",
       "7.1          3\n",
       "1.0          2\n",
       "Name: count, dtype: int64"
      ]
     },
     "execution_count": 50,
     "metadata": {},
     "output_type": "execute_result"
    }
   ],
   "source": [
    "df_clean = df_clean[df_clean['Android Ver'].str.contains('-') == False]\n",
    "df_clean['Android Ver'].value_counts()"
   ]
  },
  {
   "cell_type": "code",
   "execution_count": 51,
   "id": "5c06aa00",
   "metadata": {
    "execution": {
     "iopub.execute_input": "2025-07-18T17:47:34.281346Z",
     "iopub.status.busy": "2025-07-18T17:47:34.280501Z",
     "iopub.status.idle": "2025-07-18T17:47:34.294630Z",
     "shell.execute_reply": "2025-07-18T17:47:34.293569Z"
    },
    "papermill": {
     "duration": 0.034811,
     "end_time": "2025-07-18T17:47:34.296097",
     "exception": false,
     "start_time": "2025-07-18T17:47:34.261286",
     "status": "completed"
    },
    "tags": []
   },
   "outputs": [
    {
     "name": "stdout",
     "output_type": "stream",
     "text": [
      "<class 'pandas.core.frame.DataFrame'>\n",
      "Index: 8658 entries, 0 to 10838\n",
      "Data columns (total 16 columns):\n",
      " #   Column          Non-Null Count  Dtype         \n",
      "---  ------          --------------  -----         \n",
      " 0   App             8658 non-null   object        \n",
      " 1   Category        8658 non-null   object        \n",
      " 2   Rating          7240 non-null   float64       \n",
      " 3   Reviews         8658 non-null   int64         \n",
      " 4   Size            8375 non-null   float64       \n",
      " 5   Installs        8658 non-null   int64         \n",
      " 6   Type            8658 non-null   object        \n",
      " 7   Price           8658 non-null   float64       \n",
      " 8   Content Rating  8658 non-null   object        \n",
      " 9   Genres          8658 non-null   object        \n",
      " 10  Last Updated    8658 non-null   datetime64[ns]\n",
      " 11  Current Ver     8650 non-null   object        \n",
      " 12  Android Ver     8658 non-null   object        \n",
      " 13  Day             8658 non-null   int32         \n",
      " 14  Month           8658 non-null   int32         \n",
      " 15  Year            8658 non-null   int32         \n",
      "dtypes: datetime64[ns](1), float64(3), int32(3), int64(2), object(7)\n",
      "memory usage: 1.0+ MB\n"
     ]
    }
   ],
   "source": [
    "df_clean.info()"
   ]
  },
  {
   "cell_type": "code",
   "execution_count": 52,
   "id": "a202253e",
   "metadata": {
    "execution": {
     "iopub.execute_input": "2025-07-18T17:47:34.334828Z",
     "iopub.status.busy": "2025-07-18T17:47:34.334494Z",
     "iopub.status.idle": "2025-07-18T17:47:34.341538Z",
     "shell.execute_reply": "2025-07-18T17:47:34.340320Z"
    },
    "papermill": {
     "duration": 0.027916,
     "end_time": "2025-07-18T17:47:34.342919",
     "exception": false,
     "start_time": "2025-07-18T17:47:34.315003",
     "status": "completed"
    },
    "tags": []
   },
   "outputs": [
    {
     "data": {
      "text/plain": [
       "array(['Art & Design', 'Art & Design;Pretend Play',\n",
       "       'Art & Design;Creativity', 'Art & Design;Action & Adventure',\n",
       "       'Auto & Vehicles', 'Beauty', 'Books & Reference', 'Business',\n",
       "       'Comics', 'Comics;Creativity', 'Communication', 'Dating',\n",
       "       'Education', 'Education;Creativity', 'Education;Education',\n",
       "       'Education;Action & Adventure', 'Education;Pretend Play',\n",
       "       'Education;Brain Games', 'Entertainment',\n",
       "       'Entertainment;Music & Video', 'Entertainment;Brain Games',\n",
       "       'Entertainment;Creativity', 'Events', 'Finance', 'Food & Drink',\n",
       "       'Health & Fitness', 'House & Home', 'Libraries & Demo',\n",
       "       'Lifestyle', 'Lifestyle;Pretend Play',\n",
       "       'Adventure;Action & Adventure', 'Arcade', 'Casual', 'Card',\n",
       "       'Casual;Pretend Play', 'Action', 'Strategy', 'Puzzle', 'Sports',\n",
       "       'Music', 'Word', 'Racing', 'Casual;Creativity', 'Simulation',\n",
       "       'Adventure', 'Board', 'Trivia', 'Role Playing',\n",
       "       'Simulation;Education', 'Action;Action & Adventure',\n",
       "       'Casual;Brain Games', 'Simulation;Action & Adventure',\n",
       "       'Educational;Creativity', 'Puzzle;Brain Games',\n",
       "       'Educational;Education', 'Educational;Brain Games',\n",
       "       'Educational;Pretend Play', 'Casual;Action & Adventure',\n",
       "       'Entertainment;Education', 'Casual;Education',\n",
       "       'Music;Music & Video', 'Racing;Action & Adventure',\n",
       "       'Arcade;Pretend Play', 'Simulation;Pretend Play',\n",
       "       'Puzzle;Creativity', 'Sports;Action & Adventure',\n",
       "       'Educational;Action & Adventure', 'Arcade;Action & Adventure',\n",
       "       'Entertainment;Action & Adventure', 'Puzzle;Action & Adventure',\n",
       "       'Role Playing;Action & Adventure', 'Strategy;Action & Adventure',\n",
       "       'Music & Audio;Music & Video', 'Health & Fitness;Education',\n",
       "       'Adventure;Education', 'Board;Brain Games',\n",
       "       'Board;Action & Adventure', 'Board;Pretend Play',\n",
       "       'Casual;Music & Video', 'Education;Music & Video',\n",
       "       'Role Playing;Pretend Play', 'Entertainment;Pretend Play',\n",
       "       'Video Players & Editors;Creativity', 'Card;Action & Adventure',\n",
       "       'Medical', 'Social', 'Shopping', 'Photography', 'Travel & Local',\n",
       "       'Travel & Local;Action & Adventure', 'Tools', 'Personalization',\n",
       "       'Productivity', 'Parenting', 'Parenting;Education',\n",
       "       'Parenting;Brain Games', 'Parenting;Music & Video', 'Weather',\n",
       "       'Video Players & Editors', 'News & Magazines', 'Maps & Navigation',\n",
       "       'Health & Fitness;Action & Adventure', 'Educational', 'Casino',\n",
       "       'Adventure;Brain Games', 'Video Players & Editors;Music & Video',\n",
       "       'Trivia;Education', 'Lifestyle;Education',\n",
       "       'Books & Reference;Creativity', 'Books & Reference;Education',\n",
       "       'Puzzle;Education', 'Role Playing;Education',\n",
       "       'Role Playing;Brain Games', 'Strategy;Education',\n",
       "       'Racing;Pretend Play', 'Communication;Creativity',\n",
       "       'Strategy;Creativity'], dtype=object)"
      ]
     },
     "execution_count": 52,
     "metadata": {},
     "output_type": "execute_result"
    }
   ],
   "source": [
    "df_clean['Genres'].unique()"
   ]
  },
  {
   "cell_type": "code",
   "execution_count": 53,
   "id": "3b22f2d3",
   "metadata": {
    "execution": {
     "iopub.execute_input": "2025-07-18T17:47:34.381520Z",
     "iopub.status.busy": "2025-07-18T17:47:34.381225Z",
     "iopub.status.idle": "2025-07-18T17:47:34.396179Z",
     "shell.execute_reply": "2025-07-18T17:47:34.395460Z"
    },
    "papermill": {
     "duration": 0.035808,
     "end_time": "2025-07-18T17:47:34.397466",
     "exception": false,
     "start_time": "2025-07-18T17:47:34.361658",
     "status": "completed"
    },
    "tags": []
   },
   "outputs": [
    {
     "data": {
      "text/html": [
       "<div>\n",
       "<style scoped>\n",
       "    .dataframe tbody tr th:only-of-type {\n",
       "        vertical-align: middle;\n",
       "    }\n",
       "\n",
       "    .dataframe tbody tr th {\n",
       "        vertical-align: top;\n",
       "    }\n",
       "\n",
       "    .dataframe thead th {\n",
       "        text-align: right;\n",
       "    }\n",
       "</style>\n",
       "<table border=\"1\" class=\"dataframe\">\n",
       "  <thead>\n",
       "    <tr style=\"text-align: right;\">\n",
       "      <th></th>\n",
       "      <th>App</th>\n",
       "      <th>Category</th>\n",
       "      <th>Rating</th>\n",
       "      <th>Reviews</th>\n",
       "      <th>Size</th>\n",
       "      <th>Installs</th>\n",
       "      <th>Type</th>\n",
       "      <th>Price</th>\n",
       "      <th>Content Rating</th>\n",
       "      <th>Genres</th>\n",
       "      <th>Last Updated</th>\n",
       "      <th>Current Ver</th>\n",
       "      <th>Android Ver</th>\n",
       "      <th>Day</th>\n",
       "      <th>Month</th>\n",
       "      <th>Year</th>\n",
       "    </tr>\n",
       "  </thead>\n",
       "  <tbody>\n",
       "    <tr>\n",
       "      <th>10834</th>\n",
       "      <td>FR Calculator</td>\n",
       "      <td>FAMILY</td>\n",
       "      <td>4.0</td>\n",
       "      <td>7</td>\n",
       "      <td>2.6</td>\n",
       "      <td>500</td>\n",
       "      <td>Free</td>\n",
       "      <td>0.0</td>\n",
       "      <td>Everyone</td>\n",
       "      <td>Education</td>\n",
       "      <td>2017-06-18</td>\n",
       "      <td>1.0.0</td>\n",
       "      <td>4.1</td>\n",
       "      <td>18</td>\n",
       "      <td>6</td>\n",
       "      <td>2017</td>\n",
       "    </tr>\n",
       "    <tr>\n",
       "      <th>10835</th>\n",
       "      <td>FR Forms</td>\n",
       "      <td>BUSINESS</td>\n",
       "      <td>NaN</td>\n",
       "      <td>0</td>\n",
       "      <td>9.6</td>\n",
       "      <td>10</td>\n",
       "      <td>Free</td>\n",
       "      <td>0.0</td>\n",
       "      <td>Everyone</td>\n",
       "      <td>Business</td>\n",
       "      <td>2016-09-29</td>\n",
       "      <td>1.1.5</td>\n",
       "      <td>4.0</td>\n",
       "      <td>29</td>\n",
       "      <td>9</td>\n",
       "      <td>2016</td>\n",
       "    </tr>\n",
       "    <tr>\n",
       "      <th>10836</th>\n",
       "      <td>Sya9a Maroc - FR</td>\n",
       "      <td>FAMILY</td>\n",
       "      <td>4.5</td>\n",
       "      <td>38</td>\n",
       "      <td>53000.0</td>\n",
       "      <td>5000</td>\n",
       "      <td>Free</td>\n",
       "      <td>0.0</td>\n",
       "      <td>Everyone</td>\n",
       "      <td>Education</td>\n",
       "      <td>2017-07-25</td>\n",
       "      <td>1.48</td>\n",
       "      <td>4.1</td>\n",
       "      <td>25</td>\n",
       "      <td>7</td>\n",
       "      <td>2017</td>\n",
       "    </tr>\n",
       "    <tr>\n",
       "      <th>10837</th>\n",
       "      <td>Fr. Mike Schmitz Audio Teachings</td>\n",
       "      <td>FAMILY</td>\n",
       "      <td>5.0</td>\n",
       "      <td>4</td>\n",
       "      <td>3.6</td>\n",
       "      <td>100</td>\n",
       "      <td>Free</td>\n",
       "      <td>0.0</td>\n",
       "      <td>Everyone</td>\n",
       "      <td>Education</td>\n",
       "      <td>2018-07-06</td>\n",
       "      <td>1.0</td>\n",
       "      <td>4.1</td>\n",
       "      <td>6</td>\n",
       "      <td>7</td>\n",
       "      <td>2018</td>\n",
       "    </tr>\n",
       "    <tr>\n",
       "      <th>10838</th>\n",
       "      <td>Parkinson Exercices FR</td>\n",
       "      <td>MEDICAL</td>\n",
       "      <td>NaN</td>\n",
       "      <td>3</td>\n",
       "      <td>9.5</td>\n",
       "      <td>1000</td>\n",
       "      <td>Free</td>\n",
       "      <td>0.0</td>\n",
       "      <td>Everyone</td>\n",
       "      <td>Medical</td>\n",
       "      <td>2017-01-20</td>\n",
       "      <td>1.0</td>\n",
       "      <td>2.2</td>\n",
       "      <td>20</td>\n",
       "      <td>1</td>\n",
       "      <td>2017</td>\n",
       "    </tr>\n",
       "  </tbody>\n",
       "</table>\n",
       "</div>"
      ],
      "text/plain": [
       "                                    App  Category  Rating  Reviews     Size  \\\n",
       "10834                     FR Calculator    FAMILY     4.0        7      2.6   \n",
       "10835                          FR Forms  BUSINESS     NaN        0      9.6   \n",
       "10836                  Sya9a Maroc - FR    FAMILY     4.5       38  53000.0   \n",
       "10837  Fr. Mike Schmitz Audio Teachings    FAMILY     5.0        4      3.6   \n",
       "10838            Parkinson Exercices FR   MEDICAL     NaN        3      9.5   \n",
       "\n",
       "       Installs  Type  Price Content Rating     Genres Last Updated  \\\n",
       "10834       500  Free    0.0       Everyone  Education   2017-06-18   \n",
       "10835        10  Free    0.0       Everyone   Business   2016-09-29   \n",
       "10836      5000  Free    0.0       Everyone  Education   2017-07-25   \n",
       "10837       100  Free    0.0       Everyone  Education   2018-07-06   \n",
       "10838      1000  Free    0.0       Everyone    Medical   2017-01-20   \n",
       "\n",
       "      Current Ver Android Ver  Day  Month  Year  \n",
       "10834       1.0.0        4.1    18      6  2017  \n",
       "10835       1.1.5        4.0    29      9  2016  \n",
       "10836        1.48        4.1    25      7  2017  \n",
       "10837         1.0        4.1     6      7  2018  \n",
       "10838         1.0        2.2    20      1  2017  "
      ]
     },
     "execution_count": 53,
     "metadata": {},
     "output_type": "execute_result"
    }
   ],
   "source": [
    "df_clean.tail()"
   ]
  },
  {
   "cell_type": "code",
   "execution_count": 54,
   "id": "728563ff",
   "metadata": {
    "execution": {
     "iopub.execute_input": "2025-07-18T17:47:34.436610Z",
     "iopub.status.busy": "2025-07-18T17:47:34.436311Z",
     "iopub.status.idle": "2025-07-18T17:47:34.447616Z",
     "shell.execute_reply": "2025-07-18T17:47:34.446642Z"
    },
    "papermill": {
     "duration": 0.032598,
     "end_time": "2025-07-18T17:47:34.449061",
     "exception": false,
     "start_time": "2025-07-18T17:47:34.416463",
     "status": "completed"
    },
    "tags": []
   },
   "outputs": [
    {
     "data": {
      "text/plain": [
       "Genres\n",
       "Action                                   11.255844\n",
       "Action;Action & Adventure                 3.910955\n",
       "Adventure                                 4.064319\n",
       "Adventure;Action & Adventure             21.230000\n",
       "Adventure;Brain Games                     0.100000\n",
       "                                           ...    \n",
       "Video Players & Editors                   7.093219\n",
       "Video Players & Editors;Creativity        5.000000\n",
       "Video Players & Editors;Music & Video     5.000000\n",
       "Weather                                   2.270176\n",
       "Word                                      5.208628\n",
       "Name: Installs, Length: 117, dtype: float64"
      ]
     },
     "execution_count": 54,
     "metadata": {},
     "output_type": "execute_result"
    }
   ],
   "source": [
    "mean_genres_installs = df_clean.groupby(['Genres'])['Installs'].mean() / 1000000\n",
    "mean_genres_installs "
   ]
  },
  {
   "cell_type": "code",
   "execution_count": 55,
   "id": "c63b94a8",
   "metadata": {
    "execution": {
     "iopub.execute_input": "2025-07-18T17:47:34.489960Z",
     "iopub.status.busy": "2025-07-18T17:47:34.489635Z",
     "iopub.status.idle": "2025-07-18T17:47:34.499395Z",
     "shell.execute_reply": "2025-07-18T17:47:34.498596Z"
    },
    "papermill": {
     "duration": 0.032407,
     "end_time": "2025-07-18T17:47:34.500770",
     "exception": false,
     "start_time": "2025-07-18T17:47:34.468363",
     "status": "completed"
    },
    "tags": []
   },
   "outputs": [
    {
     "data": {
      "text/plain": [
       "0       NaN\n",
       "1       NaN\n",
       "2       NaN\n",
       "3       NaN\n",
       "4       NaN\n",
       "         ..\n",
       "10834   NaN\n",
       "10835   NaN\n",
       "10836   NaN\n",
       "10837   NaN\n",
       "10838   NaN\n",
       "Name: Genres Encoded, Length: 8658, dtype: float64"
      ]
     },
     "execution_count": 55,
     "metadata": {},
     "output_type": "execute_result"
    }
   ],
   "source": [
    "df_clean[\"Genres Encoded\"] = mean_genres_installs\n",
    "df_clean[\"Genres Encoded\"] "
   ]
  },
  {
   "cell_type": "code",
   "execution_count": 56,
   "id": "7c630161",
   "metadata": {
    "execution": {
     "iopub.execute_input": "2025-07-18T17:47:34.541359Z",
     "iopub.status.busy": "2025-07-18T17:47:34.540290Z",
     "iopub.status.idle": "2025-07-18T17:47:34.547939Z",
     "shell.execute_reply": "2025-07-18T17:47:34.547092Z"
    },
    "papermill": {
     "duration": 0.029358,
     "end_time": "2025-07-18T17:47:34.549337",
     "exception": false,
     "start_time": "2025-07-18T17:47:34.519979",
     "status": "completed"
    },
    "tags": []
   },
   "outputs": [
    {
     "data": {
      "text/plain": [
       "{'Action': 11.255844429065743,\n",
       " 'Action;Action & Adventure': 3.9109545454545454,\n",
       " 'Adventure': 4.064319452054795,\n",
       " 'Adventure;Action & Adventure': 21.23,\n",
       " 'Adventure;Brain Games': 0.1,\n",
       " 'Adventure;Education': 10.0,\n",
       " 'Arcade': 20.540684218390805,\n",
       " 'Arcade;Action & Adventure': 2.7084616153846155,\n",
       " 'Arcade;Pretend Play': 1.0,\n",
       " 'Art & Design': 1.8308589285714287,\n",
       " 'Art & Design;Action & Adventure': 0.1,\n",
       " 'Art & Design;Creativity': 0.285,\n",
       " 'Art & Design;Pretend Play': 0.5,\n",
       " 'Auto & Vehicles': 0.5753873205128205,\n",
       " 'Beauty': 0.303941,\n",
       " 'Board': 2.859415641025641,\n",
       " 'Board;Action & Adventure': 2.001666666666667,\n",
       " 'Board;Brain Games': 0.5254733333333333,\n",
       " 'Board;Pretend Play': 0.0001,\n",
       " 'Books & Reference': 0.6850892182741116,\n",
       " 'Books & Reference;Creativity': 0.0001,\n",
       " 'Books & Reference;Education': 0.0055,\n",
       " 'Business': 1.0347099612403101,\n",
       " 'Card': 2.200636585365854,\n",
       " 'Card;Action & Adventure': 5.5,\n",
       " 'Casino': 2.980018918918919,\n",
       " 'Casual': 17.919875741935485,\n",
       " 'Casual;Action & Adventure': 4.9091818181818185,\n",
       " 'Casual;Brain Games': 1.4259166666666667,\n",
       " 'Casual;Creativity': 5.333333333333333,\n",
       " 'Casual;Education': 0.67,\n",
       " 'Casual;Music & Video': 10.0,\n",
       " 'Casual;Pretend Play': 5.677541666666667,\n",
       " 'Comics': 0.4464822916666667,\n",
       " 'Comics;Creativity': 0.05,\n",
       " 'Communication': 10.468861313492063,\n",
       " 'Communication;Creativity': 0.5,\n",
       " 'Dating': 0.5753097393939394,\n",
       " 'Education': 0.3606640549682875,\n",
       " 'Education;Action & Adventure': 0.7525,\n",
       " 'Education;Brain Games': 4.00025,\n",
       " 'Education;Creativity': 2.31,\n",
       " 'Education;Education': 0.9928048484848485,\n",
       " 'Education;Music & Video': 0.55,\n",
       " 'Education;Pretend Play': 0.5423125,\n",
       " 'Educational': 0.3562658857142857,\n",
       " 'Educational;Action & Adventure': 17.01666666666667,\n",
       " 'Educational;Brain Games': 4.433333333333333,\n",
       " 'Educational;Creativity': 1.4011,\n",
       " 'Educational;Education': 1.6613905555555555,\n",
       " 'Educational;Pretend Play': 5.781930769230769,\n",
       " 'Entertainment': 2.8357310405405407,\n",
       " 'Entertainment;Action & Adventure': 2.3333333333333335,\n",
       " 'Entertainment;Brain Games': 2.2,\n",
       " 'Entertainment;Creativity': 4.0,\n",
       " 'Entertainment;Education': 1.0,\n",
       " 'Entertainment;Music & Video': 6.758333333333333,\n",
       " 'Entertainment;Pretend Play': 3.0,\n",
       " 'Events': 0.09951861403508773,\n",
       " 'Finance': 0.8441862960526316,\n",
       " 'Food & Drink': 1.5339421978021979,\n",
       " 'Health & Fitness': 3.275905606837607,\n",
       " 'Health & Fitness;Action & Adventure': 1.0,\n",
       " 'Health & Fitness;Education': 0.1,\n",
       " 'House & Home': 0.8324590483870967,\n",
       " 'Libraries & Demo': 0.6406902469135802,\n",
       " 'Lifestyle': 1.1269302928994083,\n",
       " 'Lifestyle;Education': 0.1,\n",
       " 'Lifestyle;Pretend Play': 10.0,\n",
       " 'Maps & Navigation': 1.6888063302752294,\n",
       " 'Medical': 0.09297765951742627,\n",
       " 'Music': 6.673361111111111,\n",
       " 'Music & Audio;Music & Video': 0.5,\n",
       " 'Music;Music & Video': 3.367,\n",
       " 'News & Magazines': 5.766374439024391,\n",
       " 'Parenting': 0.4236615909090909,\n",
       " 'Parenting;Brain Games': 1.0,\n",
       " 'Parenting;Education': 0.45285714285714285,\n",
       " 'Parenting;Music & Video': 0.342,\n",
       " 'Personalization': 2.4641463170028817,\n",
       " 'Photography': 8.5167968697479,\n",
       " 'Productivity': 5.775793169435216,\n",
       " 'Puzzle': 7.102365905982906,\n",
       " 'Puzzle;Action & Adventure': 18.366666666666667,\n",
       " 'Puzzle;Brain Games': 8.253529411764706,\n",
       " 'Puzzle;Creativity': 0.75,\n",
       " 'Puzzle;Education': 0.1,\n",
       " 'Racing': 16.018934712643677,\n",
       " 'Racing;Action & Adventure': 8.26625,\n",
       " 'Racing;Pretend Play': 1.0,\n",
       " 'Role Playing': 3.20622,\n",
       " 'Role Playing;Action & Adventure': 3.7,\n",
       " 'Role Playing;Brain Games': 10.0,\n",
       " 'Role Playing;Education': 0.0001,\n",
       " 'Role Playing;Pretend Play': 5.275,\n",
       " 'Shopping': 4.827027819767442,\n",
       " 'Simulation': 3.0994447311827953,\n",
       " 'Simulation;Action & Adventure': 4.857142857142858,\n",
       " 'Simulation;Education': 0.20016666666666666,\n",
       " 'Simulation;Pretend Play': 0.37,\n",
       " 'Social': 3.4028580909090906,\n",
       " 'Sports': 4.041653839464883,\n",
       " 'Sports;Action & Adventure': 2.675,\n",
       " 'Strategy': 10.102557303370787,\n",
       " 'Strategy;Action & Adventure': 0.55,\n",
       " 'Strategy;Creativity': 1.0,\n",
       " 'Strategy;Education': 0.5,\n",
       " 'Tools': 3.94034668707483,\n",
       " 'Travel & Local': 2.5753674777777777,\n",
       " 'Travel & Local;Action & Adventure': 0.1,\n",
       " 'Trivia': 3.3843781578947367,\n",
       " 'Trivia;Education': 0.0001,\n",
       " 'Video Players & Editors': 7.0932185294117645,\n",
       " 'Video Players & Editors;Creativity': 5.0,\n",
       " 'Video Players & Editors;Music & Video': 5.0,\n",
       " 'Weather': 2.2701757894736843,\n",
       " 'Word': 5.2086275}"
      ]
     },
     "execution_count": 56,
     "metadata": {},
     "output_type": "execute_result"
    }
   ],
   "source": [
    "mean_genres_installs = mean_genres_installs.to_dict()\n",
    "mean_genres_installs"
   ]
  },
  {
   "cell_type": "code",
   "execution_count": 57,
   "id": "fd2006e4",
   "metadata": {
    "execution": {
     "iopub.execute_input": "2025-07-18T17:47:34.590343Z",
     "iopub.status.busy": "2025-07-18T17:47:34.589989Z",
     "iopub.status.idle": "2025-07-18T17:47:34.598371Z",
     "shell.execute_reply": "2025-07-18T17:47:34.597566Z"
    },
    "papermill": {
     "duration": 0.030757,
     "end_time": "2025-07-18T17:47:34.599823",
     "exception": false,
     "start_time": "2025-07-18T17:47:34.569066",
     "status": "completed"
    },
    "tags": []
   },
   "outputs": [
    {
     "data": {
      "text/plain": [
       "0        1.830859\n",
       "1        0.500000\n",
       "2        1.830859\n",
       "3        1.830859\n",
       "4        0.285000\n",
       "           ...   \n",
       "10834    0.360664\n",
       "10835    1.034710\n",
       "10836    0.360664\n",
       "10837    0.360664\n",
       "10838    0.092978\n",
       "Name: Genres Encoded, Length: 8658, dtype: float64"
      ]
     },
     "execution_count": 57,
     "metadata": {},
     "output_type": "execute_result"
    }
   ],
   "source": [
    "df_clean['Genres Encoded'] = df_clean['Genres'].map(mean_genres_installs)\n",
    "df_clean['Genres Encoded']"
   ]
  }
 ],
 "metadata": {
  "kaggle": {
   "accelerator": "none",
   "dataSources": [
    {
     "datasetId": 49864,
     "sourceId": 274957,
     "sourceType": "datasetVersion"
    }
   ],
   "dockerImageVersionId": 31089,
   "isGpuEnabled": false,
   "isInternetEnabled": true,
   "language": "python",
   "sourceType": "notebook"
  },
  "kernelspec": {
   "display_name": "Python 3",
   "language": "python",
   "name": "python3"
  },
  "language_info": {
   "codemirror_mode": {
    "name": "ipython",
    "version": 3
   },
   "file_extension": ".py",
   "mimetype": "text/x-python",
   "name": "python",
   "nbconvert_exporter": "python",
   "pygments_lexer": "ipython3",
   "version": "3.11.13"
  },
  "papermill": {
   "default_parameters": {},
   "duration": 15.614913,
   "end_time": "2025-07-18T17:47:35.339744",
   "environment_variables": {},
   "exception": null,
   "input_path": "__notebook__.ipynb",
   "output_path": "__notebook__.ipynb",
   "parameters": {},
   "start_time": "2025-07-18T17:47:19.724831",
   "version": "2.6.0"
  }
 },
 "nbformat": 4,
 "nbformat_minor": 5
}
